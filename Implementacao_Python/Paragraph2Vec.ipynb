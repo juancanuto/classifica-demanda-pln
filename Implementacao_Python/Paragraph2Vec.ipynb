{
 "cells": [
  {
   "cell_type": "markdown",
   "metadata": {},
   "source": [
    "# Projeto Padrões de Projeto\n",
    "\n",
    "# Treinamento da Rede\n",
    "\n",
    "Esta implementação tem como objetivo criar o treinamento da rede com curriculos os dados oriundos do lattes para classificação de demandas."
   ]
  },
  {
   "cell_type": "code",
   "execution_count": 25,
   "metadata": {},
   "outputs": [],
   "source": [
    "import pandas as pd\n",
    "import numpy as np\n",
    "import tensorflow as tf\n",
    "import nltk\n",
    "import multiprocessing\n",
    "from sklearn import utils\n",
    "from keras.models import Sequential\n",
    "from keras.layers import Dense, Dropout\n",
    "from tqdm import tqdm\n",
    "from nltk.corpus import stopwords\n",
    "from gensim.models import Doc2Vec\n",
    "from sklearn.model_selection import train_test_split\n",
    "from gensim.models.doc2vec import TaggedDocument\n",
    "from matplotlib import pyplot as plt\n",
    "from sklearn.metrics import confusion_matrix\n",
    "from sklearn.metrics import accuracy_score\n",
    "from sklearn.metrics import classification_report\n",
    "from sklearn.linear_model import LogisticRegression\n",
    "from sklearn.metrics import accuracy_score, f1_score\n",
    "from gensim.test.test_doc2vec import ConcatenatedDoc2Vec\n",
    "import joblib"
   ]
  },
  {
   "cell_type": "code",
   "execution_count": 26,
   "metadata": {},
   "outputs": [
    {
     "name": "stderr",
     "output_type": "stream",
     "text": [
      "C:\\Users\\jhassam\\AppData\\Local\\Continuum\\anaconda3\\lib\\site-packages\\tqdm\\std.py:648: FutureWarning: The Panel class is removed from pandas. Accessing it from the top-level namespace will also be removed in the next version\n",
      "  from pandas import Panel\n"
     ]
    }
   ],
   "source": [
    "pd.set_option('display.max_columns', 131)\n",
    "pd.set_option('float_format', '{:f}'.format)\n",
    "pd.set_option('display.max_colwidth', -1)\n",
    "tqdm.pandas(desc=\"progress-bar\")"
   ]
  },
  {
   "cell_type": "markdown",
   "metadata": {},
   "source": [
    "## Indice:\n",
    "* [1. Carga dos Dados](#first-bullet)\n",
    "* [2. Tratamento dos Dados](#second-bullet)\n",
    "* [3. Criação do Modelo](#4th-bullet)\n",
    "* [4. Matriz de Confusão](#5th-bullet)"
   ]
  },
  {
   "cell_type": "markdown",
   "metadata": {},
   "source": [
    "\n",
    "## 1. Carga dos dados <a class=\"anchor\" id=\"first-bullet\"></a>\n",
    "As informações utilizadas para treinamento o  serão carregadas do arquivo dados_treino.csv ,arquivo criado com base nos dados oriundos do lattes"
   ]
  },
  {
   "cell_type": "code",
   "execution_count": 27,
   "metadata": {},
   "outputs": [],
   "source": [
    "df = pd.read_csv(\"dados_treino.csv\",sep=';')"
   ]
  },
  {
   "cell_type": "code",
   "execution_count": 28,
   "metadata": {
    "scrolled": true
   },
   "outputs": [
    {
     "data": {
      "text/html": [
       "<div>\n",
       "<style scoped>\n",
       "    .dataframe tbody tr th:only-of-type {\n",
       "        vertical-align: middle;\n",
       "    }\n",
       "\n",
       "    .dataframe tbody tr th {\n",
       "        vertical-align: top;\n",
       "    }\n",
       "\n",
       "    .dataframe thead th {\n",
       "        text-align: right;\n",
       "    }\n",
       "</style>\n",
       "<table border=\"1\" class=\"dataframe\">\n",
       "  <thead>\n",
       "    <tr style=\"text-align: right;\">\n",
       "      <th></th>\n",
       "      <th>Descricao</th>\n",
       "      <th>Class</th>\n",
       "    </tr>\n",
       "  </thead>\n",
       "  <tbody>\n",
       "    <tr>\n",
       "      <td>0</td>\n",
       "      <td>possui graduacao em ciencias sociais pela universidade do vale do paraiba  possui especializacao em gestao estrategica da inovacao tecnologica pela unicamp atualmente e professor de inovacao e empreendedorismo da fatec sao jose dos campos tem experiencia na area de gestao de projetos de inovacao atuando principalmente nos seguintes temas inovacao tecnologica gestao de projetos parques tecnologicos incubadoras modelagem de negocios e captacao de recursos publicos e privados ciencias sociais</td>\n",
       "      <td>0</td>\n",
       "    </tr>\n",
       "    <tr>\n",
       "      <td>1</td>\n",
       "      <td>possui graduacao em direito pela faculdade de direito de taubate  graduacao em letras pela faculdade de filosofia ciencias e letras de taubate  graduacao em pedagogia pela faculdade de educacao de guaratingueta  mestrado em direito pela pontificia universidade catolica de sao paulo  e doutorado em direito pela pontificia universidade catolica de sao paulo  atualmente e professora de direito e comunicacao e expressao da faculdade de tecnologia de sao jose dos campos direito  letras  pedagogia  direito  law direito  law</td>\n",
       "      <td>0</td>\n",
       "    </tr>\n",
       "    <tr>\n",
       "      <td>2</td>\n",
       "      <td>mestre em engenharia eletronica e computacao  instituo tecnologico de aeronautica engenheiro de infraestrutura aeronautica  instituto tecnologico de aeronautica professor da faculdade de tecnologia de sao jose dos campos das disciplinas arquitetura e organizacao de computadores fundamentos de redes de computadores tecnologia e ambiente e meio ambiente e saude professor da disciplina ciencias ambientais e das aguas da faculdade de tecnologia de jacarei socio diretor das empresas micro assist infomatica ltda e actie ltda com sede em sao jose dos campos experiencia na area de informatica redes de computadores microcomputadores cabeamento estruturado de redes fibras oticas etc engenharia civil engenharia mecanica transmissao e conservacao de energia educacao em energia e meio ambiente ex diretor da fatec guaratingueta ex diretor da fatec sao jose dos campos e ex coordenador dos cursos de estruturas leves automacao aeronautica e projetos de estruturas aeronauticas da fatec sao jose dos campos engenharia de infreestrutura aeronautica estudo comparativo tecnico e economico entre metodos de dimensionamento de pavimentos aeroportuarios formacao de oficiais aviadores  engenharia eletronica e computacao um sistema computadorizado de baixo custo para treinar controladores em radar de aproximacao de precisao  sipar electric engineering controle de trafego aereo engenharia mecanica  mechanical engineering</td>\n",
       "      <td>0</td>\n",
       "    </tr>\n",
       "    <tr>\n",
       "      <td>3</td>\n",
       "      <td>possui graduacao em fisica pela universidade de sao paulo  mestrado em sensoriamento remoto pelo instituto nacional de pesquisas espaciais  e doutorado em computacao aplicada pelo instituto nacional de pesquisas espaciais  tem experiencia na area de computacao com enfase em otimizacao combinatoria atuando principalmente nos seguintes temas problemas de localizacao problema das pmedianas capacitado problema de roteamento de veiculos tendo interesse tambem por programacao orientada a objetos e algoritmos atualmente professor categoria iiid e coordenador do curso de tecnologia em analise e desenvolvimento de sistema da fatec de sao jose dos campos fisica  sensoriamento remoto simulacao do coeficiente de retroespalhamento de radar na banda c para solos nus tipicos do estado de sao paulo geosciences retroespalhamento radar computacao aplicada heuristica de localizacaoalocacao para problemas de localizacao de facilidades computer science</td>\n",
       "      <td>0</td>\n",
       "    </tr>\n",
       "    <tr>\n",
       "      <td>4</td>\n",
       "      <td>possui graduacao em ciencia da computacao pelo centro universitario do triangulo  mestrado e doutorado em computacao aplicada pelo inpe  instituto nacional de pesquisas espaciais  atuou em projetos de armazenamento e disseminacao de dados ambientais no inpe atualmente e professor da etep faculdades centro universitario eniac faculdade inpg de sao jose dos campos e fatec de jacarei e sao jose dos campos possui experiencia na area de ciencia da computacao com enfase em banco de dados e desenvolvimento de sistemas web ciencia da computacao  computacao aplicada esqueletos isotropicos computer science morfologia matematica computacao aplicada expansao por dilatacao e por erosao visando a extracao de esqueletos e contornos em imagens digitais computer science</td>\n",
       "      <td>0</td>\n",
       "    </tr>\n",
       "    <tr>\n",
       "      <td>...</td>\n",
       "      <td>...</td>\n",
       "      <td>...</td>\n",
       "    </tr>\n",
       "    <tr>\n",
       "      <td>95</td>\n",
       "      <td>possui graduacao em engenharia eletricaeletronica pela universidade do vale do paraiba  atualmente e professor assistente da faculdade de tecnologia de sao jose dos campos engenharia eletricaeletronica teodolito a laser</td>\n",
       "      <td>2</td>\n",
       "    </tr>\n",
       "    <tr>\n",
       "      <td>96</td>\n",
       "      <td>graduada em matematica aplicada e computacional pela universidade federal do rio grande do sul  mestrado  e doutorado  em matematica aplicada na area de vibracoes e controle pela universidade federal do rio grande do sul posdoutorado em dinamica naolinear e caos pelo demacunesp  rio claro  atualmente e professora auxiliar na universidade de taubate e na fatec de jacarei e sao jose dos campos tem experiencia em ensino e pesquisa nas areas de analise numerica algebra matricial dinamica naolinear caos computacao simbolica e metodos variacionais matematica aplicada e computacional  matematica aplicada problemas de ordem superior e calculo da funcao de green mathematics matematica aplicada o modelo de timoshenko em vigas elasticas estruturas offshore e nanotubos de carbono atraves da resposta fundamental de valor inicial mathematics</td>\n",
       "      <td>2</td>\n",
       "    </tr>\n",
       "    <tr>\n",
       "      <td>97</td>\n",
       "      <td>possui graduacao em engenharia mecanica pela escola federal de engenharia de itajuba  mestrado em analise de sistemas aplicacoes pelo instituto nacional de pesquisas espaciais  e doutorado em computacao aplicada pelo instituto nacional de pesquisas espaciais  possui tambem graduacao em matematica pela faculdade de filosofia ciencias e letras de itajuba  e em ciencias biologicas pela universidade do vale do paraiba  aatuou como professor pleno do centro de desenvolvimento de tecnologia e recursos humanos  atualmente e  professor senior do centro paula souza fatec de sao jose dos campos sp e pesquisador senior  do instituto nacional de pesquisas espaciaisinpe engenharia mecanica  ciencias biologicas  matematica  analise de sistemas aplicacoes modelos economicos de educacao projeto medecese production engineering modelos economicos computacao aplicada simulacao da migracao intraurbana computer science</td>\n",
       "      <td>2</td>\n",
       "    </tr>\n",
       "    <tr>\n",
       "      <td>98</td>\n",
       "      <td>possui graduacao em letras pela universidade do vale do paraiba  e graduacao em comunicacao social pela universidade braz cubas  e mestre em educaco pela universidade de sao paulo atualmente e professora do ensino superior da faculdade de tecnologia de sao jose dos campos tem experiencia na area de letras com enfase em linguistica atuando principalmente nos seguintes temas leitura discurso sentidos lingua estrangeira letras  comunicacao social  educacao discurso e leitura concepcoes e imagens de futuros professores de lingua estrangeira education leitura sentidos concepcao discursiva</td>\n",
       "      <td>2</td>\n",
       "    </tr>\n",
       "    <tr>\n",
       "      <td>99</td>\n",
       "      <td>engenheiro de materiais doutor em engenharia mecanica pelo instituto tecnologico de aeronautica  e mestre em engenharia metalurgica e de materiais pela universidade federal do rio grande do sul com periodo de pesquisa no instituto de conformacao mecanica  da universidade rwth aachen alemanha atualmente atua como engenheiro de pesquisa e desenvolvimento e como gestor de projetos de cooperacao universidadeindustria no centro de competencia em manufatura  do ita tambem atua como docente na faculdade de tecnologia prof jessen vidal em sao jose dos campos tem experiencia na area de engenharia de materiais atuando principalmente nos seguintes temas propriedades mecanicas de materiais  processamento de materiais tensoes residuais e processos de manufatura principais interesses de pesquisa sao evolucao de microestrutura induzida por processos de manufatura tensoes residuais simulacao numerica de processos de manufatura integridade estrutural manufatura de estruturas envolvendo acos avancados de alta resistencia  e ligas leves engenharia de materiais avaliacao das propriedades mecanicas termicas e de degradacao de compositos phbv  fibras de celulose engenharia de minas metalurgica e de materiais analise numerica do forjamento em matriz aberta para a producao de eixos vazados material and metallurgical engineering conformacao mecanica engenharia aeronautica e mecanica resistance spot welding of twinninginduced plasticity steels mechanical engineering</td>\n",
       "      <td>2</td>\n",
       "    </tr>\n",
       "  </tbody>\n",
       "</table>\n",
       "<p>100 rows × 2 columns</p>\n",
       "</div>"
      ],
      "text/plain": [
       "                                                                                                                                                                                                                                                                                                                                                                                                                                                                                                                                                                                                                                                                                                                                                                                                                                                                                                                                                                                                                                                                                                                                                                                                                                                                                                                                                                                                                                                                                                                   Descricao  \\\n",
       "0   possui graduacao em ciencias sociais pela universidade do vale do paraiba  possui especializacao em gestao estrategica da inovacao tecnologica pela unicamp atualmente e professor de inovacao e empreendedorismo da fatec sao jose dos campos tem experiencia na area de gestao de projetos de inovacao atuando principalmente nos seguintes temas inovacao tecnologica gestao de projetos parques tecnologicos incubadoras modelagem de negocios e captacao de recursos publicos e privados ciencias sociais                                                                                                                                                                                                                                                                                                                                                                                                                                                                                                                                                                                                                                                                                                                                                                                                                                                                                                                                                                                                             \n",
       "1   possui graduacao em direito pela faculdade de direito de taubate  graduacao em letras pela faculdade de filosofia ciencias e letras de taubate  graduacao em pedagogia pela faculdade de educacao de guaratingueta  mestrado em direito pela pontificia universidade catolica de sao paulo  e doutorado em direito pela pontificia universidade catolica de sao paulo  atualmente e professora de direito e comunicacao e expressao da faculdade de tecnologia de sao jose dos campos direito  letras  pedagogia  direito  law direito  law                                                                                                                                                                                                                                                                                                                                                                                                                                                                                                                                                                                                                                                                                                                                                                                                                                                                                                                                                                                \n",
       "2   mestre em engenharia eletronica e computacao  instituo tecnologico de aeronautica engenheiro de infraestrutura aeronautica  instituto tecnologico de aeronautica professor da faculdade de tecnologia de sao jose dos campos das disciplinas arquitetura e organizacao de computadores fundamentos de redes de computadores tecnologia e ambiente e meio ambiente e saude professor da disciplina ciencias ambientais e das aguas da faculdade de tecnologia de jacarei socio diretor das empresas micro assist infomatica ltda e actie ltda com sede em sao jose dos campos experiencia na area de informatica redes de computadores microcomputadores cabeamento estruturado de redes fibras oticas etc engenharia civil engenharia mecanica transmissao e conservacao de energia educacao em energia e meio ambiente ex diretor da fatec guaratingueta ex diretor da fatec sao jose dos campos e ex coordenador dos cursos de estruturas leves automacao aeronautica e projetos de estruturas aeronauticas da fatec sao jose dos campos engenharia de infreestrutura aeronautica estudo comparativo tecnico e economico entre metodos de dimensionamento de pavimentos aeroportuarios formacao de oficiais aviadores  engenharia eletronica e computacao um sistema computadorizado de baixo custo para treinar controladores em radar de aproximacao de precisao  sipar electric engineering controle de trafego aereo engenharia mecanica  mechanical engineering                                                     \n",
       "3   possui graduacao em fisica pela universidade de sao paulo  mestrado em sensoriamento remoto pelo instituto nacional de pesquisas espaciais  e doutorado em computacao aplicada pelo instituto nacional de pesquisas espaciais  tem experiencia na area de computacao com enfase em otimizacao combinatoria atuando principalmente nos seguintes temas problemas de localizacao problema das pmedianas capacitado problema de roteamento de veiculos tendo interesse tambem por programacao orientada a objetos e algoritmos atualmente professor categoria iiid e coordenador do curso de tecnologia em analise e desenvolvimento de sistema da fatec de sao jose dos campos fisica  sensoriamento remoto simulacao do coeficiente de retroespalhamento de radar na banda c para solos nus tipicos do estado de sao paulo geosciences retroespalhamento radar computacao aplicada heuristica de localizacaoalocacao para problemas de localizacao de facilidades computer science                                                                                                                                                                                                                                                                                                                                                                                                                                                                                                                                          \n",
       "4   possui graduacao em ciencia da computacao pelo centro universitario do triangulo  mestrado e doutorado em computacao aplicada pelo inpe  instituto nacional de pesquisas espaciais  atuou em projetos de armazenamento e disseminacao de dados ambientais no inpe atualmente e professor da etep faculdades centro universitario eniac faculdade inpg de sao jose dos campos e fatec de jacarei e sao jose dos campos possui experiencia na area de ciencia da computacao com enfase em banco de dados e desenvolvimento de sistemas web ciencia da computacao  computacao aplicada esqueletos isotropicos computer science morfologia matematica computacao aplicada expansao por dilatacao e por erosao visando a extracao de esqueletos e contornos em imagens digitais computer science                                                                                                                                                                                                                                                                                                                                                                                                                                                                                                                                                                                                                                                                                                                                \n",
       "..                                                                                                                                                                                                                                                                                                                                                                                                                                                                                                                                                                                                                                                                                                                                                                                          ...                                                                                                                                                                                                                                                                                                                                                                                                                                                                                                                                                                                                                                                                                                                                \n",
       "95  possui graduacao em engenharia eletricaeletronica pela universidade do vale do paraiba  atualmente e professor assistente da faculdade de tecnologia de sao jose dos campos engenharia eletricaeletronica teodolito a laser                                                                                                                                                                                                                                                                                                                                                                                                                                                                                                                                                                                                                                                                                                                                                                                                                                                                                                                                                                                                                                                                                                                                                                                                                                                                                                \n",
       "96  graduada em matematica aplicada e computacional pela universidade federal do rio grande do sul  mestrado  e doutorado  em matematica aplicada na area de vibracoes e controle pela universidade federal do rio grande do sul posdoutorado em dinamica naolinear e caos pelo demacunesp  rio claro  atualmente e professora auxiliar na universidade de taubate e na fatec de jacarei e sao jose dos campos tem experiencia em ensino e pesquisa nas areas de analise numerica algebra matricial dinamica naolinear caos computacao simbolica e metodos variacionais matematica aplicada e computacional  matematica aplicada problemas de ordem superior e calculo da funcao de green mathematics matematica aplicada o modelo de timoshenko em vigas elasticas estruturas offshore e nanotubos de carbono atraves da resposta fundamental de valor inicial mathematics                                                                                                                                                                                                                                                                                                                                                                                                                                                                                                                                                                                                                                                    \n",
       "97  possui graduacao em engenharia mecanica pela escola federal de engenharia de itajuba  mestrado em analise de sistemas aplicacoes pelo instituto nacional de pesquisas espaciais  e doutorado em computacao aplicada pelo instituto nacional de pesquisas espaciais  possui tambem graduacao em matematica pela faculdade de filosofia ciencias e letras de itajuba  e em ciencias biologicas pela universidade do vale do paraiba  aatuou como professor pleno do centro de desenvolvimento de tecnologia e recursos humanos  atualmente e  professor senior do centro paula souza fatec de sao jose dos campos sp e pesquisador senior  do instituto nacional de pesquisas espaciaisinpe engenharia mecanica  ciencias biologicas  matematica  analise de sistemas aplicacoes modelos economicos de educacao projeto medecese production engineering modelos economicos computacao aplicada simulacao da migracao intraurbana computer science                                                                                                                                                                                                                                                                                                                                                                                                                                                                                                                                                                            \n",
       "98  possui graduacao em letras pela universidade do vale do paraiba  e graduacao em comunicacao social pela universidade braz cubas  e mestre em educaco pela universidade de sao paulo atualmente e professora do ensino superior da faculdade de tecnologia de sao jose dos campos tem experiencia na area de letras com enfase em linguistica atuando principalmente nos seguintes temas leitura discurso sentidos lingua estrangeira letras  comunicacao social  educacao discurso e leitura concepcoes e imagens de futuros professores de lingua estrangeira education leitura sentidos concepcao discursiva                                                                                                                                                                                                                                                                                                                                                                                                                                                                                                                                                                                                                                                                                                                                                                                                                                                                                                             \n",
       "99  engenheiro de materiais doutor em engenharia mecanica pelo instituto tecnologico de aeronautica  e mestre em engenharia metalurgica e de materiais pela universidade federal do rio grande do sul com periodo de pesquisa no instituto de conformacao mecanica  da universidade rwth aachen alemanha atualmente atua como engenheiro de pesquisa e desenvolvimento e como gestor de projetos de cooperacao universidadeindustria no centro de competencia em manufatura  do ita tambem atua como docente na faculdade de tecnologia prof jessen vidal em sao jose dos campos tem experiencia na area de engenharia de materiais atuando principalmente nos seguintes temas propriedades mecanicas de materiais  processamento de materiais tensoes residuais e processos de manufatura principais interesses de pesquisa sao evolucao de microestrutura induzida por processos de manufatura tensoes residuais simulacao numerica de processos de manufatura integridade estrutural manufatura de estruturas envolvendo acos avancados de alta resistencia  e ligas leves engenharia de materiais avaliacao das propriedades mecanicas termicas e de degradacao de compositos phbv  fibras de celulose engenharia de minas metalurgica e de materiais analise numerica do forjamento em matriz aberta para a producao de eixos vazados material and metallurgical engineering conformacao mecanica engenharia aeronautica e mecanica resistance spot welding of twinninginduced plasticity steels mechanical engineering   \n",
       "\n",
       "    Class  \n",
       "0   0      \n",
       "1   0      \n",
       "2   0      \n",
       "3   0      \n",
       "4   0      \n",
       ".. ..      \n",
       "95  2      \n",
       "96  2      \n",
       "97  2      \n",
       "98  2      \n",
       "99  2      \n",
       "\n",
       "[100 rows x 2 columns]"
      ]
     },
     "execution_count": 28,
     "metadata": {},
     "output_type": "execute_result"
    }
   ],
   "source": [
    "df.head(100)"
   ]
  },
  {
   "cell_type": "markdown",
   "metadata": {},
   "source": [
    "## 2. Tratamento dos Dados <a class=\"anchor\" id=\"second-bullet\"></a>"
   ]
  },
  {
   "cell_type": "code",
   "execution_count": 29,
   "metadata": {},
   "outputs": [
    {
     "data": {
      "text/plain": [
       "15472"
      ]
     },
     "execution_count": 29,
     "metadata": {},
     "output_type": "execute_result"
    }
   ],
   "source": [
    "df['Descricao'].apply(lambda x: len(x.split(' '))).sum()"
   ]
  },
  {
   "cell_type": "code",
   "execution_count": 30,
   "metadata": {},
   "outputs": [],
   "source": [
    "train, test = train_test_split(df, test_size=0.1, random_state=42)\n",
    "#nltk.download()\n",
    "def tokenize_text(text):\n",
    "    tokens = []\n",
    "    for sent in nltk.sent_tokenize(text):\n",
    "        for word in nltk.word_tokenize(sent):\n",
    "            if len(word) < 3:\n",
    "                continue\n",
    "            tokens.append(word.lower())\n",
    "    return tokens\n",
    "train_tagged = train.apply(\n",
    "    lambda r: TaggedDocument(words=tokenize_text(r['Descricao']), tags=[r.Class]), axis=1)\n",
    "test_tagged = test.apply(\n",
    "    lambda r: TaggedDocument(words=tokenize_text(r['Descricao']), tags=[r.Class]), axis=1)"
   ]
  },
  {
   "cell_type": "code",
   "execution_count": 31,
   "metadata": {},
   "outputs": [
    {
     "data": {
      "text/plain": [
       "1    5\n",
       "2    3\n",
       "0    3\n",
       "Name: Class, dtype: int64"
      ]
     },
     "execution_count": 31,
     "metadata": {},
     "output_type": "execute_result"
    }
   ],
   "source": [
    "test['Class'].value_counts()"
   ]
  },
  {
   "cell_type": "code",
   "execution_count": 32,
   "metadata": {},
   "outputs": [],
   "source": [
    "cores = multiprocessing.cpu_count()"
   ]
  },
  {
   "cell_type": "markdown",
   "metadata": {},
   "source": [
    "## 3. Criação do Modelo <a class=\"anchor\" id=\"4th-bullet\"></a>"
   ]
  },
  {
   "cell_type": "code",
   "execution_count": 33,
   "metadata": {},
   "outputs": [
    {
     "name": "stderr",
     "output_type": "stream",
     "text": [
      "100%|██████████| 92/92 [00:00<00:00, 92359.02it/s]\n"
     ]
    }
   ],
   "source": [
    "model_dbow = Doc2Vec(dm=1, vector_size=300, negative=5, hs=0, min_count=2, sample = 0, workers=cores, alpha=0.025, min_alpha=0.001)\n",
    "model_dbow.build_vocab([x for x in tqdm(train_tagged)])\n",
    "\n",
    "train_tagged  = utils.shuffle(train_tagged)\n",
    "model_dbow.train(train_tagged,total_examples=len(train_tagged), epochs=30)\n",
    "def vector_for_learning(model, input_docs):\n",
    "    sents = input_docs\n",
    "    targets, feature_vectors = zip(*[(doc.tags[0], model.infer_vector(doc.words, steps=20)) for doc in sents])\n",
    "    return targets, feature_vectors"
   ]
  },
  {
   "cell_type": "code",
   "execution_count": 34,
   "metadata": {},
   "outputs": [],
   "source": [
    "y_train, X_train = vector_for_learning(model_dbow, train_tagged)\n",
    "y_test, X_test = vector_for_learning(model_dbow, test_tagged)"
   ]
  },
  {
   "cell_type": "code",
   "execution_count": 35,
   "metadata": {},
   "outputs": [
    {
     "name": "stderr",
     "output_type": "stream",
     "text": [
      "C:\\Users\\jhassam\\AppData\\Local\\Continuum\\anaconda3\\lib\\site-packages\\sklearn\\linear_model\\logistic.py:432: FutureWarning: Default solver will be changed to 'lbfgs' in 0.22. Specify a solver to silence this warning.\n",
      "  FutureWarning)\n",
      "C:\\Users\\jhassam\\AppData\\Local\\Continuum\\anaconda3\\lib\\site-packages\\sklearn\\linear_model\\logistic.py:469: FutureWarning: Default multi_class will be changed to 'auto' in 0.22. Specify the multi_class option to silence this warning.\n",
      "  \"this warning.\", FutureWarning)\n"
     ]
    },
    {
     "name": "stdout",
     "output_type": "stream",
     "text": [
      "Testing accuracy 0.36363636363636365\n",
      "Testing F1 score: 0.341991341991342\n"
     ]
    }
   ],
   "source": [
    "logreg = LogisticRegression(n_jobs=1, C=1e5)\n",
    "logreg.fit(X_train, y_train)\n",
    "y_pred = logreg.predict(X_test)\n",
    "print('Testing accuracy %s' % accuracy_score(y_test, y_pred))\n",
    "print('Testing F1 score: {}'.format(f1_score(y_test, y_pred, average='weighted')))"
   ]
  },
  {
   "cell_type": "markdown",
   "metadata": {},
   "source": [
    "## Paragraph to Vector"
   ]
  },
  {
   "cell_type": "markdown",
   "metadata": {},
   "source": [
    "## Bag of Words"
   ]
  },
  {
   "cell_type": "code",
   "execution_count": 36,
   "metadata": {},
   "outputs": [
    {
     "name": "stderr",
     "output_type": "stream",
     "text": [
      "100%|██████████| 92/92 [00:00<?, ?it/s]\n"
     ]
    }
   ],
   "source": [
    "model_dmm = Doc2Vec(dm=1, dm_mean=1, vector_size=300, window=10, negative=5, min_count=1, workers=5, alpha=0.065, min_alpha=0.065)\n",
    "model_dmm.build_vocab([x for x in tqdm(train_tagged.values)])"
   ]
  },
  {
   "cell_type": "code",
   "execution_count": 37,
   "metadata": {},
   "outputs": [
    {
     "name": "stderr",
     "output_type": "stream",
     "text": [
      "100%|██████████| 92/92 [00:00<?, ?it/s]\n",
      "100%|██████████| 92/92 [00:00<00:00, 92182.51it/s]\n",
      "100%|██████████| 92/92 [00:00<?, ?it/s]\n",
      "100%|██████████| 92/92 [00:00<?, ?it/s]\n",
      "100%|██████████| 92/92 [00:00<?, ?it/s]\n",
      "100%|██████████| 92/92 [00:00<00:00, 91940.90it/s]\n",
      "100%|██████████| 92/92 [00:00<?, ?it/s]\n",
      "100%|██████████| 92/92 [00:00<00:00, 91940.90it/s]\n",
      "100%|██████████| 92/92 [00:00<?, ?it/s]\n",
      "100%|██████████| 92/92 [00:00<?, ?it/s]\n",
      "100%|██████████| 92/92 [00:00<?, ?it/s]\n",
      "100%|██████████| 92/92 [00:00<00:00, 92160.49it/s]\n",
      "100%|██████████| 92/92 [00:00<?, ?it/s]\n",
      "100%|██████████| 92/92 [00:00<?, ?it/s]\n",
      "100%|██████████| 92/92 [00:00<00:00, 91094.42it/s]\n",
      "100%|██████████| 92/92 [00:00<?, ?it/s]\n",
      "100%|██████████| 92/92 [00:00<00:00, 92028.61it/s]\n",
      "100%|██████████| 92/92 [00:00<00:00, 91962.81it/s]\n",
      "100%|██████████| 92/92 [00:00<?, ?it/s]\n",
      "100%|██████████| 92/92 [00:00<00:00, 89219.88it/s]\n",
      "100%|██████████| 92/92 [00:00<?, ?it/s]\n",
      "100%|██████████| 92/92 [00:00<00:00, 92006.67it/s]\n",
      "100%|██████████| 92/92 [00:00<?, ?it/s]\n",
      "100%|██████████| 92/92 [00:00<?, ?it/s]\n",
      "100%|██████████| 92/92 [00:00<?, ?it/s]\n",
      "100%|██████████| 92/92 [00:00<?, ?it/s]\n",
      "100%|██████████| 92/92 [00:00<?, ?it/s]\n",
      "100%|██████████| 92/92 [00:00<?, ?it/s]\n",
      "100%|██████████| 92/92 [00:00<?, ?it/s]\n",
      "100%|██████████| 92/92 [00:00<?, ?it/s]\n"
     ]
    },
    {
     "name": "stdout",
     "output_type": "stream",
     "text": [
      "Wall time: 786 ms\n"
     ]
    }
   ],
   "source": [
    "%%time\n",
    "for epoch in range(30):\n",
    "    model_dmm.train(utils.shuffle([x for x in tqdm(train_tagged.values)]), total_examples=len(train_tagged.values), epochs=1)\n",
    "    model_dmm.alpha -= 0.002\n",
    "    model_dmm.min_alpha = model_dmm.alpha"
   ]
  },
  {
   "cell_type": "code",
   "execution_count": 38,
   "metadata": {},
   "outputs": [
    {
     "name": "stderr",
     "output_type": "stream",
     "text": [
      "C:\\Users\\jhassam\\AppData\\Local\\Continuum\\anaconda3\\lib\\site-packages\\sklearn\\linear_model\\logistic.py:432: FutureWarning: Default solver will be changed to 'lbfgs' in 0.22. Specify a solver to silence this warning.\n",
      "  FutureWarning)\n",
      "C:\\Users\\jhassam\\AppData\\Local\\Continuum\\anaconda3\\lib\\site-packages\\sklearn\\linear_model\\logistic.py:469: FutureWarning: Default multi_class will be changed to 'auto' in 0.22. Specify the multi_class option to silence this warning.\n",
      "  \"this warning.\", FutureWarning)\n"
     ]
    },
    {
     "name": "stdout",
     "output_type": "stream",
     "text": [
      "Testing accuracy 0.2727272727272727\n",
      "Testing F1 score: 0.22272727272727275\n"
     ]
    }
   ],
   "source": [
    "y_train, X_train = vector_for_learning(model_dmm, train_tagged)\n",
    "y_test, X_test = vector_for_learning(model_dmm, test_tagged)\n",
    "logreg.fit(X_train, y_train)\n",
    "y_pred = logreg.predict(X_test)\n",
    "print('Testing accuracy %s' % accuracy_score(y_test, y_pred))\n",
    "print('Testing F1 score: {}'.format(f1_score(y_test, y_pred, average='weighted')))"
   ]
  },
  {
   "cell_type": "code",
   "execution_count": 39,
   "metadata": {},
   "outputs": [],
   "source": [
    "model_dbow.delete_temporary_training_data(keep_doctags_vectors=True, keep_inference=True)\n",
    "model_dmm.delete_temporary_training_data(keep_doctags_vectors=True, keep_inference=True)"
   ]
  },
  {
   "cell_type": "code",
   "execution_count": 40,
   "metadata": {},
   "outputs": [],
   "source": [
    "new_model = ConcatenatedDoc2Vec([model_dbow, model_dmm])"
   ]
  },
  {
   "cell_type": "code",
   "execution_count": 41,
   "metadata": {},
   "outputs": [],
   "source": [
    "def get_vectors(model, tagged_docs):\n",
    "    sents = tagged_docs.values\n",
    "    targets, regressors = zip(*[(doc.tags[0], model.infer_vector(doc.words, steps=20)) for doc in sents])\n",
    "    return targets, regressors"
   ]
  },
  {
   "cell_type": "code",
   "execution_count": 42,
   "metadata": {},
   "outputs": [
    {
     "name": "stderr",
     "output_type": "stream",
     "text": [
      "C:\\Users\\jhassam\\AppData\\Local\\Continuum\\anaconda3\\lib\\site-packages\\sklearn\\linear_model\\logistic.py:432: FutureWarning: Default solver will be changed to 'lbfgs' in 0.22. Specify a solver to silence this warning.\n",
      "  FutureWarning)\n",
      "C:\\Users\\jhassam\\AppData\\Local\\Continuum\\anaconda3\\lib\\site-packages\\sklearn\\linear_model\\logistic.py:469: FutureWarning: Default multi_class will be changed to 'auto' in 0.22. Specify the multi_class option to silence this warning.\n",
      "  \"this warning.\", FutureWarning)\n"
     ]
    },
    {
     "name": "stdout",
     "output_type": "stream",
     "text": [
      "Testing accuracy 0.2727272727272727\n"
     ]
    },
    {
     "name": "stderr",
     "output_type": "stream",
     "text": [
      "C:\\Users\\jhassam\\AppData\\Local\\Continuum\\anaconda3\\lib\\site-packages\\sklearn\\metrics\\classification.py:1437: UndefinedMetricWarning: F-score is ill-defined and being set to 0.0 in labels with no predicted samples.\n",
      "  'precision', 'predicted', average, warn_for)\n"
     ]
    },
    {
     "name": "stdout",
     "output_type": "stream",
     "text": [
      "Testing F1 score: 0.12587412587412586\n"
     ]
    }
   ],
   "source": [
    "y_train, X_train = get_vectors(new_model, train_tagged)\n",
    "y_test, X_test = get_vectors(new_model, test_tagged)\n",
    "logreg.fit(X_train, y_train)\n",
    "y_pred = logreg.predict(X_test)\n",
    "print('Testing accuracy %s' % accuracy_score(y_test, y_pred))\n",
    "print('Testing F1 score: {}'.format(f1_score(y_test, y_pred, average='weighted')))"
   ]
  },
  {
   "cell_type": "code",
   "execution_count": 43,
   "metadata": {},
   "outputs": [
    {
     "data": {
      "text/plain": [
       "['word2vec.h5']"
      ]
     },
     "execution_count": 43,
     "metadata": {},
     "output_type": "execute_result"
    }
   ],
   "source": [
    "filename = 'word2vec.h5'\n",
    "joblib.dump(logreg, filename)"
   ]
  },
  {
   "cell_type": "markdown",
   "metadata": {},
   "source": [
    "## 4. Matriz de Confusão <a class=\"anchor\" id=\"5th-bullet\"></a>"
   ]
  },
  {
   "cell_type": "code",
   "execution_count": 44,
   "metadata": {},
   "outputs": [],
   "source": [
    "def plot_confusion_matrix(cm, classes,\n",
    "                          normalize=False,\n",
    "                          title='Confusion matrix',\n",
    "                          cmap=plt.cm.Blues):\n",
    "    import itertools\n",
    "    if normalize:\n",
    "        cm = cm.astype('float') / cm.sum(axis=1)[:, np.newaxis]\n",
    "        print(\"Normalized confusion matrix\")\n",
    "    else:\n",
    "        print('Confusion matrix, without normalization')\n",
    "\n",
    "    print(cm)\n",
    "\n",
    "    plt.imshow(cm, interpolation='nearest', cmap=cmap)\n",
    "    plt.title(title)\n",
    "    plt.colorbar()\n",
    "    tick_marks = np.arange(len(classes))\n",
    "    plt.xticks(tick_marks, classes, rotation=45)\n",
    "    plt.yticks(tick_marks, classes)\n",
    "\n",
    "    fmt = '.2f' if normalize else 'd'\n",
    "    thresh = cm.max() / 2.\n",
    "    for i, j in itertools.product(range(cm.shape[0]), range(cm.shape[1])):\n",
    "        plt.text(j, i, format(cm[i, j], fmt),\n",
    "                 horizontalalignment=\"center\",\n",
    "                 color=\"white\" if cm[i, j] > thresh else \"black\")\n",
    "\n",
    "    plt.ylabel('True label')\n",
    "    plt.xlabel('Predicted label')\n",
    "    plt.tight_layout()"
   ]
  },
  {
   "cell_type": "code",
   "execution_count": 45,
   "metadata": {},
   "outputs": [
    {
     "name": "stdout",
     "output_type": "stream",
     "text": [
      "Confusion matrix, without normalization\n",
      "[[0 0 3]\n",
      " [1 0 4]\n",
      " [0 0 3]]\n"
     ]
    },
    {
     "data": {
      "image/png": "[encoded data removed]",
      "text/plain": [
       "<Figure size 432x288 with 2 Axes>"
      ]
     },
     "metadata": {
      "needs_background": "light"
     },
     "output_type": "display_data"
    }
   ],
   "source": [
    "cnf_matrix = confusion_matrix(y_test, y_pred, labels=[0, 1, 2])\n",
    "np.set_printoptions(precision=2)\n",
    "plt.figure()\n",
    "plot_confusion_matrix(cnf_matrix, classes=[0, 1, 2],\n",
    "                      title='Matriz de Confusão')"
   ]
  },
  {
   "cell_type": "code",
   "execution_count": null,
   "metadata": {},
   "outputs": [],
   "source": []
  }
 ],
 "metadata": {
  "kernelspec": {
   "display_name": "Python 3",
   "language": "python",
   "name": "python3"
  },
  "language_info": {
   "codemirror_mode": {
    "name": "ipython",
    "version": 3
   },
   "file_extension": ".py",
   "mimetype": "text/x-python",
   "name": "python",
   "nbconvert_exporter": "python",
   "pygments_lexer": "ipython3",
   "version": "3.7.4"
  }
 },
 "nbformat": 4,
 "nbformat_minor": 2
}
