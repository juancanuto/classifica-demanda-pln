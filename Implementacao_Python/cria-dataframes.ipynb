{
 "cells": [
  {
   "cell_type": "markdown",
   "metadata": {},
   "source": [
    "# Projeto Padrões de Projeto\n",
    "\n",
    "# Criação da Base de treinamento\n",
    "\n",
    "Esta implementação tem como objetivo criar a base de dados com curriculos oriundos do lattes para classificação de demandas.\n",
    "\n"
   ]
  },
  {
   "cell_type": "code",
   "execution_count": 45,
   "metadata": {},
   "outputs": [],
   "source": [
    "import pandas as pd\n",
    "import xmltodict\n",
    "import string\n",
    "import numpy as np\n",
    "import xml.etree.ElementTree as ET"
   ]
  },
  {
   "cell_type": "code",
   "execution_count": 46,
   "metadata": {},
   "outputs": [],
   "source": [
    "pd.set_option('display.max_columns', 131)\n",
    "pd.set_option('float_format', '{:f}'.format)\n",
    "pd.set_option('display.max_colwidth', -1)"
   ]
  },
  {
   "cell_type": "markdown",
   "metadata": {},
   "source": [
    "## Indice:\n",
    "* [1. Carga dos Dados](#first-bullet)\n",
    "* [2. Criação da Base](#second-bullet)\n",
    "* [3. Tratamento dos Dados](#4th-bullet)\n",
    "* [4. Persistência dos Dados](#5th-bullet)"
   ]
  },
  {
   "cell_type": "markdown",
   "metadata": {},
   "source": [
    "\n",
    "## 1. Carga dos dados <a class=\"anchor\" id=\"first-bullet\"></a>\n",
    "As informações utilizadas para criação dos dados para treinamento serão carregadas dos curriculos .xml, arquivos oriundos do lattes"
   ]
  },
  {
   "cell_type": "code",
   "execution_count": 47,
   "metadata": {},
   "outputs": [],
   "source": [
    "curriculos_ads_bd = ['agliberto.xml','anacecilia.xml','antonio.xml','arakaki.xml',\n",
    "                    'arley.xml','branquinho.xml','cicero.xml','claudio.xml','dawilmar.xml',\n",
    "                     'dercy.xml','egydio.xml','eliane.xml','fabricio.xml','geraldo.xml',\n",
    "                     'gerson.xml','giuliano.xml','jean.xml','joares.xml','juliana.xml',\n",
    "                     'marluce.xml','masanori.xml','mineda.xml','nanci.xml','renata.xml',\n",
    "                     'renata.xml','sakaue.xml','valter.xml','walmir.xml']\n",
    "\n",
    "curriculos_aero = ['alfred.xml','anacecilia.xml','andre.xml','antonio.xml','bruno.xml','carrara.xml',\n",
    "                   'celso.xml','danielle.xml','edmar.xml','eduardo.xml','fabiana.xml','fabio.xml',\n",
    "                   'fabricio.xml','felix.xml','goreti.xml','heide.xml','hudson.xml','joarez.xml','jorge.xml',\n",
    "                   'jose.xml','leandro.xml','leonidas.xml','lucas.xml','luiz.xml','marcos.xml','marcosvinicius.xml',\n",
    "                   'nilo.xml','nilovieira.xml','reinaldo.xml','renato.xml','rita.xml','rodrigo.xml','santiago.xml']\n",
    "\n",
    "curriculos_log_gpi = ['adriana.xml','adrianabezerra.xml','agliberto.xml','alfred.xml','anacecilia.xml','carlos.xml',\n",
    "                      'carloseduardo.xml','carloslineu.xml','carraro.xml','cassia.xml','cicero.xml','claudio.xml',\n",
    "                      'danielle.xml','dercy.xml','eduardo.xml','eliane.xml','fabio.xml','guaraci.xml','herculano.xml',\n",
    "                      'jean.xml','joarez.xml','jorge.xml','jose.xml','lise.xml','manoel.xml','marcos.xml','marcus.xml',\n",
    "                      'marluce.xml','nanci.xml','newton.xml','reinaldo.xml','renata.xml','rodrigo.xml','roque.xml',\n",
    "                    'rubens.xml','sanzara.xml','suelena.xml','teresinha.xml','tiago.xml','tozi.xml','valter.xml','vera.xml']"
   ]
  },
  {
   "cell_type": "code",
   "execution_count": 48,
   "metadata": {
    "scrolled": true
   },
   "outputs": [],
   "source": [
    "conteudo = []\n",
    "for arq in curriculos_ads_bd:\n",
    "    root = ET.parse('curriculos/ADS_BD/'+arq).getroot()\n",
    "    lista = []\n",
    "    for tag in root.findall('DADOS-GERAIS/RESUMO-CV'):\n",
    "        texto = tag.get('TEXTO-RESUMO-CV-RH')\n",
    "        lista.append(texto)\n",
    "    for tag in root.findall('DADOS-GERAIS/FORMACAO-ACADEMICA-TITULACAO/GRADUACAO'):\n",
    "        texto = tag.get('NOME-CURSO')\n",
    "        texto2 = tag.get('TITULO-DO-TRABALHO-DE-CONCLUSAO-DE-CURSO')\n",
    "        lista.append(texto)\n",
    "        lista.append(texto2)\n",
    "    for tag in root.findall('DADOS-GERAIS/FORMACAO-ACADEMICA-TITULACAO/MESTRADO'):\n",
    "        texto = tag.get('NOME-CURSO')\n",
    "        texto2 = tag.get('TITULO-DA-DISSERTACAO-TESE')\n",
    "        texto3 = tag.get('NOME-CURSO-INGLES')\n",
    "        lista.append(texto)\n",
    "        lista.append(texto2)\n",
    "        lista.append(texto3)\n",
    "    for tag in root.findall('DADOS-GERAIS/FORMACAO-ACADEMICA-TITULACAO/MESTRADO/PALAVRAS-CHAVE'):\n",
    "        texto = tag.get('PALAVRA-CHAVE-1')\n",
    "        lista.append(texto)\n",
    "    for tag in root.findall('DADOS-GERAIS/FORMACAO-ACADEMICA-TITULACAO/DOUTORADO'):\n",
    "        texto = tag.get('NOME-CURSO')\n",
    "        texto2 = tag.get('TITULO-DA-DISSERTACAO-TESE')\n",
    "        texto3 = tag.get('NOME-CURSO-INGLES')\n",
    "        lista.append(texto)\n",
    "        lista.append(texto2)\n",
    "        lista.append(texto3)\n",
    "\n",
    "    lista = \" \".join(lista)\n",
    "    conteudo.append(lista)"
   ]
  },
  {
   "cell_type": "code",
   "execution_count": 49,
   "metadata": {},
   "outputs": [],
   "source": [
    "df = pd.DataFrame(conteudo,columns=[\"Descricao\"])\n",
    "df['Class'] = 0"
   ]
  },
  {
   "cell_type": "code",
   "execution_count": 50,
   "metadata": {},
   "outputs": [],
   "source": [
    "conteudo = []\n",
    "for arq in curriculos_aero:\n",
    "    root = ET.parse('curriculos/AERO/'+arq).getroot()\n",
    "    lista = []\n",
    "    for tag in root.findall('DADOS-GERAIS/RESUMO-CV'):\n",
    "        texto = tag.get('TEXTO-RESUMO-CV-RH')\n",
    "        lista.append(texto)\n",
    "    for tag in root.findall('DADOS-GERAIS/FORMACAO-ACADEMICA-TITULACAO/GRADUACAO'):\n",
    "        texto = tag.get('NOME-CURSO')\n",
    "        texto2 = tag.get('TITULO-DO-TRABALHO-DE-CONCLUSAO-DE-CURSO')\n",
    "        lista.append(texto)\n",
    "        lista.append(texto2)\n",
    "    for tag in root.findall('DADOS-GERAIS/FORMACAO-ACADEMICA-TITULACAO/MESTRADO'):\n",
    "        texto = tag.get('NOME-CURSO')\n",
    "        texto2 = tag.get('TITULO-DA-DISSERTACAO-TESE')\n",
    "        texto3 = tag.get('NOME-CURSO-INGLES')\n",
    "        lista.append(texto)\n",
    "        lista.append(texto2)\n",
    "        lista.append(texto3)\n",
    "    for tag in root.findall('DADOS-GERAIS/FORMACAO-ACADEMICA-TITULACAO/MESTRADO/PALAVRAS-CHAVE'):\n",
    "        texto = tag.get('PALAVRA-CHAVE-1')\n",
    "        lista.append(texto)\n",
    "    for tag in root.findall('DADOS-GERAIS/FORMACAO-ACADEMICA-TITULACAO/DOUTORADO'):\n",
    "        texto = tag.get('NOME-CURSO')\n",
    "        texto2 = tag.get('TITULO-DA-DISSERTACAO-TESE')\n",
    "        texto3 = tag.get('NOME-CURSO-INGLES')\n",
    "        lista.append(texto)\n",
    "        lista.append(texto2)\n",
    "        lista.append(texto3)\n",
    "\n",
    "    lista = \" \".join(lista)\n",
    "    conteudo.append(lista)"
   ]
  },
  {
   "cell_type": "code",
   "execution_count": 51,
   "metadata": {},
   "outputs": [],
   "source": [
    "df2 = pd.DataFrame(conteudo,columns=[\"Descricao\"])\n",
    "df2['Class'] = 1"
   ]
  },
  {
   "cell_type": "code",
   "execution_count": 52,
   "metadata": {},
   "outputs": [],
   "source": [
    "conteudo = []\n",
    "for arq in curriculos_log_gpi:\n",
    "    root = ET.parse('curriculos/LOG-GPI/'+arq).getroot()\n",
    "    lista = []\n",
    "    for tag in root.findall('DADOS-GERAIS/RESUMO-CV'):\n",
    "        texto = tag.get('TEXTO-RESUMO-CV-RH')\n",
    "        lista.append(texto)\n",
    "    for tag in root.findall('DADOS-GERAIS/FORMACAO-ACADEMICA-TITULACAO/GRADUACAO'):\n",
    "        texto = tag.get('NOME-CURSO')\n",
    "        texto2 = tag.get('TITULO-DO-TRABALHO-DE-CONCLUSAO-DE-CURSO')\n",
    "        lista.append(texto)\n",
    "        lista.append(texto2)\n",
    "    for tag in root.findall('DADOS-GERAIS/FORMACAO-ACADEMICA-TITULACAO/MESTRADO'):\n",
    "        texto = tag.get('NOME-CURSO')\n",
    "        texto2 = tag.get('TITULO-DA-DISSERTACAO-TESE')\n",
    "        texto3 = tag.get('NOME-CURSO-INGLES')\n",
    "        lista.append(texto)\n",
    "        lista.append(texto2)\n",
    "        lista.append(texto3)\n",
    "    for tag in root.findall('DADOS-GERAIS/FORMACAO-ACADEMICA-TITULACAO/MESTRADO/PALAVRAS-CHAVE'):\n",
    "        texto = tag.get('PALAVRA-CHAVE-1')\n",
    "        lista.append(texto)\n",
    "    for tag in root.findall('DADOS-GERAIS/FORMACAO-ACADEMICA-TITULACAO/DOUTORADO'):\n",
    "        texto = tag.get('NOME-CURSO')\n",
    "        texto2 = tag.get('TITULO-DA-DISSERTACAO-TESE')\n",
    "        texto3 = tag.get('NOME-CURSO-INGLES')\n",
    "        lista.append(texto)\n",
    "        lista.append(texto2)\n",
    "        lista.append(texto3)\n",
    "\n",
    "    lista = \" \".join(lista)\n",
    "    conteudo.append(lista)"
   ]
  },
  {
   "cell_type": "code",
   "execution_count": 53,
   "metadata": {},
   "outputs": [],
   "source": [
    "df3 = pd.DataFrame(conteudo,columns=[\"Descricao\"])\n",
    "df3['Class'] = 2"
   ]
  },
  {
   "cell_type": "markdown",
   "metadata": {},
   "source": [
    "## 2. Criação da Bases <a class=\"anchor\" id=\"second-bullet\"></a>"
   ]
  },
  {
   "cell_type": "code",
   "execution_count": 54,
   "metadata": {},
   "outputs": [],
   "source": [
    "frames = [df,df2,df3]\n",
    "df_total = pd.concat(frames)"
   ]
  },
  {
   "cell_type": "code",
   "execution_count": 55,
   "metadata": {},
   "outputs": [
    {
     "data": {
      "text/html": [
       "<div>\n",
       "<style scoped>\n",
       "    .dataframe tbody tr th:only-of-type {\n",
       "        vertical-align: middle;\n",
       "    }\n",
       "\n",
       "    .dataframe tbody tr th {\n",
       "        vertical-align: top;\n",
       "    }\n",
       "\n",
       "    .dataframe thead th {\n",
       "        text-align: right;\n",
       "    }\n",
       "</style>\n",
       "<table border=\"1\" class=\"dataframe\">\n",
       "  <thead>\n",
       "    <tr style=\"text-align: right;\">\n",
       "      <th></th>\n",
       "      <th>Descricao</th>\n",
       "      <th>Class</th>\n",
       "    </tr>\n",
       "  </thead>\n",
       "  <tbody>\n",
       "    <tr>\n",
       "      <th>0</th>\n",
       "      <td>Possui graduação em Ciências Sociais pela Universidade do Vale do Paraíba (1989). Possui Especialização em Gestão Estratégica da Inovação Tecnológica pela UNICAMP. Atualmente é Professor de Inovação e Empreendedorismo da FATEC São José dos Campos. Tem experiência na área de Gestão de Projetos de Inovação atuando principalmente nos seguintes temas: inovação tecnológica, gestão de projetos, Parques Tecnológicos, Incubadoras, modelagem de negócios e captação de recursos públicos e privados. Ciências Sociais</td>\n",
       "      <td>0</td>\n",
       "    </tr>\n",
       "    <tr>\n",
       "      <th>1</th>\n",
       "      <td>Possui graduação em Direito pela Faculdade de Direito de Taubaté (1974), graduação em Letras pela Faculdade de Filosofia, Ciências e Letras de Taubaté (1974), graduação em Pedagogia pela Faculdade de Educação de Guaratinguetá (1987), mestrado em Direito pela Pontifícia Universidade Católica de São Paulo (1993) e doutorado em Direito pela Pontifícia Universidade Católica de São Paulo (2000). Atualmente é professora de Direito e Comunicação e Expressão da Faculdade de Tecnologia de São José dos Campos. Direito  Letras  Pedagogia  Direito  Law Direito  Law</td>\n",
       "      <td>0</td>\n",
       "    </tr>\n",
       "    <tr>\n",
       "      <th>2</th>\n",
       "      <td>Mestre em Engenharia Eletrônica e Computação - Instituo Tecnológico de Aeronáutica. Engenheiro de Infra-estrutura Aeronáutica - Instituto Tecnológico de Aeronáutica. Professor da Faculdade de Tecnologia de São José dos Campos das disciplinas: Arquitetura e Organização de Computadores, Fundamentos de Redes de Computadores, Tecnologia e Ambiente e Meio Ambiente e Saúde. Professor da disciplina Ciências Ambientais e das Águas da Faculdade de Tecnologia de Jacareí. Sócio diretor das empresas Micro Assist Infomática Ltda e Actie Ltda com sede em São José dos Campos. Experiencia na área de Informática: Redes de computadores, Microcomputadores, Cabeamento estruturado de redes, Fibras óticas, etc. Engenharia Civil. Engenharia Mecânica: Transmissão e Conservação de Energia, Educação em Energia e Meio Ambiente. Ex diretor da FATEC Guaratinguetá, Ex diretor da FATEC São José dos Campos e Ex Coordenador dos cursos de Estruturas Leves, Automação Aeronáutica e Projetos de Estruturas Aeronáuticas da FATEC São José dos Campos. Engenharia de Infreestrutura Aeronáutica Estudo Comparativo Técnico e Econômico Entre Métodos de Dimensionamento de Pavimentos Aeroportuários Formação de Oficiais Aviadores  Engenharia Eletrônica e Computação Um Sistema Computadorizado de Baixo Custo Para Treinar Controladores em Radar de Aproximação de Precisão - SIPAR Electric Engineering Controle de Tráfego Aéreo Engenharia Mecanica  Mechanical Engineering</td>\n",
       "      <td>0</td>\n",
       "    </tr>\n",
       "    <tr>\n",
       "      <th>3</th>\n",
       "      <td>possui graduação em Física pela Universidade de São Paulo (1987), mestrado em Sensoriamento Remoto pelo Instituto Nacional de Pesquisas Espaciais (1994) e doutorado em Computação Aplicada pelo Instituto Nacional de Pesquisas Espaciais (2002). Tem experiência na área de Computação, com ênfase em Otimização Combinatória, atuando principalmente nos seguintes temas: problemas de localização, problema das p-medianas capacitado, problema de roteamento de veículos. Tendo interesse também por programação orientada a objetos e algoritmos. Atualmente, professor categoria III-D e coordenador do Curso de Tecnologia em Análise e Desenvolvimento de Sistema da Fatec de São José dos Campos. Física  Sensoriamento Remoto Simulacao do coeficiente de retroespalhamento de radar na banda C para solos nus tipicos do Estado de Sao Paulo Geosciences retroespalhamento radar Computação Aplicada Heurística de localizacão-alocacão para problemas de localizacão de facilidades Computer Science</td>\n",
       "      <td>0</td>\n",
       "    </tr>\n",
       "    <tr>\n",
       "      <th>4</th>\n",
       "      <td>Possui graduação em Ciência da Computação pelo Centro Universitário do Triângulo (1999), mestrado e doutorado em Computação Aplicada pelo INPE - Instituto Nacional de Pesquisas Espaciais (2002 e 2005). Atuou em projetos de armazenamento e disseminação de dados ambientais no INPE. Atualmente é professor da ETEP Faculdades, Centro Universitário Eniac, Faculdade INPG de São José dos Campos e Fatec de Jacareí e São José dos Campos. Possui experiência na área de Ciência da Computação, com ênfase em Banco de Dados e Desenvolvimento de Sistemas Web. Ciência da Computação  Computação Aplicada Esqueletos 8-isotrópicos Computer Science Morfologia Matemática Computação Aplicada Expansão por dilatação e por erosão visando a extração de esqueletos e contornos em imagens digitais Computer Science</td>\n",
       "      <td>0</td>\n",
       "    </tr>\n",
       "  </tbody>\n",
       "</table>\n",
       "</div>"
      ],
      "text/plain": [
       "                                                                                                                                                                                                                                                                                                                                                                                                                                                                                                                                                                                                                                                                                                                                                                                                                                                                                                                                                                                                                                                                                                                                                                                                                                                                                                                                                                                                                                                                                         Descricao  \\\n",
       "0  Possui graduação em Ciências Sociais pela Universidade do Vale do Paraíba (1989). Possui Especialização em Gestão Estratégica da Inovação Tecnológica pela UNICAMP. Atualmente é Professor de Inovação e Empreendedorismo da FATEC São José dos Campos. Tem experiência na área de Gestão de Projetos de Inovação atuando principalmente nos seguintes temas: inovação tecnológica, gestão de projetos, Parques Tecnológicos, Incubadoras, modelagem de negócios e captação de recursos públicos e privados. Ciências Sociais                                                                                                                                                                                                                                                                                                                                                                                                                                                                                                                                                                                                                                                                                                                                                                                                                                                                                                                                                                     \n",
       "1  Possui graduação em Direito pela Faculdade de Direito de Taubaté (1974), graduação em Letras pela Faculdade de Filosofia, Ciências e Letras de Taubaté (1974), graduação em Pedagogia pela Faculdade de Educação de Guaratinguetá (1987), mestrado em Direito pela Pontifícia Universidade Católica de São Paulo (1993) e doutorado em Direito pela Pontifícia Universidade Católica de São Paulo (2000). Atualmente é professora de Direito e Comunicação e Expressão da Faculdade de Tecnologia de São José dos Campos. Direito  Letras  Pedagogia  Direito  Law Direito  Law                                                                                                                                                                                                                                                                                                                                                                                                                                                                                                                                                                                                                                                                                                                                                                                                                                                                                                                   \n",
       "2  Mestre em Engenharia Eletrônica e Computação - Instituo Tecnológico de Aeronáutica. Engenheiro de Infra-estrutura Aeronáutica - Instituto Tecnológico de Aeronáutica. Professor da Faculdade de Tecnologia de São José dos Campos das disciplinas: Arquitetura e Organização de Computadores, Fundamentos de Redes de Computadores, Tecnologia e Ambiente e Meio Ambiente e Saúde. Professor da disciplina Ciências Ambientais e das Águas da Faculdade de Tecnologia de Jacareí. Sócio diretor das empresas Micro Assist Infomática Ltda e Actie Ltda com sede em São José dos Campos. Experiencia na área de Informática: Redes de computadores, Microcomputadores, Cabeamento estruturado de redes, Fibras óticas, etc. Engenharia Civil. Engenharia Mecânica: Transmissão e Conservação de Energia, Educação em Energia e Meio Ambiente. Ex diretor da FATEC Guaratinguetá, Ex diretor da FATEC São José dos Campos e Ex Coordenador dos cursos de Estruturas Leves, Automação Aeronáutica e Projetos de Estruturas Aeronáuticas da FATEC São José dos Campos. Engenharia de Infreestrutura Aeronáutica Estudo Comparativo Técnico e Econômico Entre Métodos de Dimensionamento de Pavimentos Aeroportuários Formação de Oficiais Aviadores  Engenharia Eletrônica e Computação Um Sistema Computadorizado de Baixo Custo Para Treinar Controladores em Radar de Aproximação de Precisão - SIPAR Electric Engineering Controle de Tráfego Aéreo Engenharia Mecanica  Mechanical Engineering   \n",
       "3  possui graduação em Física pela Universidade de São Paulo (1987), mestrado em Sensoriamento Remoto pelo Instituto Nacional de Pesquisas Espaciais (1994) e doutorado em Computação Aplicada pelo Instituto Nacional de Pesquisas Espaciais (2002). Tem experiência na área de Computação, com ênfase em Otimização Combinatória, atuando principalmente nos seguintes temas: problemas de localização, problema das p-medianas capacitado, problema de roteamento de veículos. Tendo interesse também por programação orientada a objetos e algoritmos. Atualmente, professor categoria III-D e coordenador do Curso de Tecnologia em Análise e Desenvolvimento de Sistema da Fatec de São José dos Campos. Física  Sensoriamento Remoto Simulacao do coeficiente de retroespalhamento de radar na banda C para solos nus tipicos do Estado de Sao Paulo Geosciences retroespalhamento radar Computação Aplicada Heurística de localizacão-alocacão para problemas de localizacão de facilidades Computer Science                                                                                                                                                                                                                                                                                                                                                                                                                                                                                 \n",
       "4  Possui graduação em Ciência da Computação pelo Centro Universitário do Triângulo (1999), mestrado e doutorado em Computação Aplicada pelo INPE - Instituto Nacional de Pesquisas Espaciais (2002 e 2005). Atuou em projetos de armazenamento e disseminação de dados ambientais no INPE. Atualmente é professor da ETEP Faculdades, Centro Universitário Eniac, Faculdade INPG de São José dos Campos e Fatec de Jacareí e São José dos Campos. Possui experiência na área de Ciência da Computação, com ênfase em Banco de Dados e Desenvolvimento de Sistemas Web. Ciência da Computação  Computação Aplicada Esqueletos 8-isotrópicos Computer Science Morfologia Matemática Computação Aplicada Expansão por dilatação e por erosão visando a extração de esqueletos e contornos em imagens digitais Computer Science                                                                                                                                                                                                                                                                                                                                                                                                                                                                                                                                                                                                                                                                         \n",
       "\n",
       "   Class  \n",
       "0  0      \n",
       "1  0      \n",
       "2  0      \n",
       "3  0      \n",
       "4  0      "
      ]
     },
     "execution_count": 55,
     "metadata": {},
     "output_type": "execute_result"
    }
   ],
   "source": [
    "df_total.head()"
   ]
  },
  {
   "cell_type": "markdown",
   "metadata": {},
   "source": [
    "## 3. Tratamento dos Dados <a class=\"anchor\" id=\"4th-bullet\"></a>\n",
    "Extração das colunas e normalização dos dados do dataframe que serão utilizadas no teste do modelo."
   ]
  },
  {
   "cell_type": "code",
   "execution_count": 12,
   "metadata": {},
   "outputs": [],
   "source": [
    "df_total['Descricao'] = df_total['Descricao'].str.lower()\n",
    "cols = df.select_dtypes(include=[np.object]).columns\n",
    "df_total[cols] = df_total[cols].apply(lambda x: x.str.normalize('NFKD').str.encode('ascii', errors='ignore').str.decode('utf-8'))"
   ]
  },
  {
   "cell_type": "code",
   "execution_count": 13,
   "metadata": {},
   "outputs": [
    {
     "data": {
      "text/plain": [
       "103"
      ]
     },
     "execution_count": 13,
     "metadata": {},
     "output_type": "execute_result"
    }
   ],
   "source": [
    "len(df_total)"
   ]
  },
  {
   "cell_type": "code",
   "execution_count": 14,
   "metadata": {},
   "outputs": [
    {
     "data": {
      "text/plain": [
       "2    42\n",
       "1    33\n",
       "0    28\n",
       "Name: Class, dtype: int64"
      ]
     },
     "execution_count": 14,
     "metadata": {},
     "output_type": "execute_result"
    }
   ],
   "source": [
    "df_total['Class'].value_counts()"
   ]
  },
  {
   "cell_type": "code",
   "execution_count": 88,
   "metadata": {},
   "outputs": [],
   "source": [
    "df_total = df_total.reset_index()\n",
    "del df_total['index']\n",
    "df_total['Descricao'] = df_total['Descricao'].str.lower()\n",
    "cols = df.select_dtypes(include=[np.object]).columns\n",
    "df_total[cols] = df_total[cols].apply(\n",
    "                                lambda x: x.str.normalize('NFKD').str.encode('ascii', errors='ignore').str.decode('utf-8'))\n",
    "df_total['Descricao'] = df_total['Descricao'].str.replace('\\d+', '')\n",
    "df_total['Descricao'] = df_total['Descricao'].str.replace(r\"\\(.*?\\)\",\"\")\n",
    "df_total['Descricao'] = df_total['Descricao'].str.replace('/', '')\n",
    "df_total['Descricao'] = df_total['Descricao'].str.replace('\\n', '')\n",
    "df_total['Descricao'] = df_total['Descricao'].str.replace(\"'\", \"\")\n",
    "df_total['Descricao'] = df_total['Descricao'].str.replace('\"', '')\n",
    "df_total = df_total.replace('\\.','',regex=True).astype('str')\n",
    "df_total = df_total.replace('\\,','',regex=True).astype('str')\n",
    "df_total = df_total.replace('\\-','',regex=True).astype('str')\n",
    "df_total = df_total.replace('\\:','',regex=True).astype('str')\n",
    "df_total = df_total.replace('\\/','',regex=True).astype('str')\n",
    "df_total = df_total.replace('\\?','',regex=True).astype('str')\n",
    "df_total = df_total.replace('\\!','',regex=True).astype('str')\n",
    "df_total = df_total.replace('\\;','',regex=True).astype('str')\n",
    "df_total = df_total.replace('\\+','',regex=True).astype('str')\n",
    "df_total = df_total.replace('\\#','',regex=True).astype('str')\n",
    "df_total = df_total.replace('\\_','',regex=True).astype('str')\n",
    "df_total = df_total.replace('\\-','',regex=True).astype('str')\n",
    "df_total = df_total.replace('\\=','',regex=True).astype('str')\n",
    "df_total = df_total.replace('\\&','',regex=True).astype('str')"
   ]
  },
  {
   "cell_type": "code",
   "execution_count": 89,
   "metadata": {},
   "outputs": [
    {
     "data": {
      "text/html": [
       "<div>\n",
       "<style scoped>\n",
       "    .dataframe tbody tr th:only-of-type {\n",
       "        vertical-align: middle;\n",
       "    }\n",
       "\n",
       "    .dataframe tbody tr th {\n",
       "        vertical-align: top;\n",
       "    }\n",
       "\n",
       "    .dataframe thead th {\n",
       "        text-align: right;\n",
       "    }\n",
       "</style>\n",
       "<table border=\"1\" class=\"dataframe\">\n",
       "  <thead>\n",
       "    <tr style=\"text-align: right;\">\n",
       "      <th></th>\n",
       "      <th>Descricao</th>\n",
       "      <th>Class</th>\n",
       "    </tr>\n",
       "  </thead>\n",
       "  <tbody>\n",
       "    <tr>\n",
       "      <th>0</th>\n",
       "      <td>possui graduacao em ciencias sociais pela universidade do vale do paraiba  possui especializacao em gestao estrategica da inovacao tecnologica pela unicamp atualmente e professor de inovacao e empreendedorismo da fatec sao jose dos campos tem experiencia na area de gestao de projetos de inovacao atuando principalmente nos seguintes temas inovacao tecnologica gestao de projetos parques tecnologicos incubadoras modelagem de negocios e captacao de recursos publicos e privados ciencias sociais</td>\n",
       "      <td>0</td>\n",
       "    </tr>\n",
       "    <tr>\n",
       "      <th>1</th>\n",
       "      <td>possui graduacao em direito pela faculdade de direito de taubate  graduacao em letras pela faculdade de filosofia ciencias e letras de taubate  graduacao em pedagogia pela faculdade de educacao de guaratingueta  mestrado em direito pela pontificia universidade catolica de sao paulo  e doutorado em direito pela pontificia universidade catolica de sao paulo  atualmente e professora de direito e comunicacao e expressao da faculdade de tecnologia de sao jose dos campos direito  letras  pedagogia  direito  law direito  law</td>\n",
       "      <td>0</td>\n",
       "    </tr>\n",
       "    <tr>\n",
       "      <th>2</th>\n",
       "      <td>mestre em engenharia eletronica e computacao  instituo tecnologico de aeronautica engenheiro de infraestrutura aeronautica  instituto tecnologico de aeronautica professor da faculdade de tecnologia de sao jose dos campos das disciplinas arquitetura e organizacao de computadores fundamentos de redes de computadores tecnologia e ambiente e meio ambiente e saude professor da disciplina ciencias ambientais e das aguas da faculdade de tecnologia de jacarei socio diretor das empresas micro assist infomatica ltda e actie ltda com sede em sao jose dos campos experiencia na area de informatica redes de computadores microcomputadores cabeamento estruturado de redes fibras oticas etc engenharia civil engenharia mecanica transmissao e conservacao de energia educacao em energia e meio ambiente ex diretor da fatec guaratingueta ex diretor da fatec sao jose dos campos e ex coordenador dos cursos de estruturas leves automacao aeronautica e projetos de estruturas aeronauticas da fatec sao jose dos campos engenharia de infreestrutura aeronautica estudo comparativo tecnico e economico entre metodos de dimensionamento de pavimentos aeroportuarios formacao de oficiais aviadores  engenharia eletronica e computacao um sistema computadorizado de baixo custo para treinar controladores em radar de aproximacao de precisao  sipar electric engineering controle de trafego aereo engenharia mecanica  mechanical engineering</td>\n",
       "      <td>0</td>\n",
       "    </tr>\n",
       "    <tr>\n",
       "      <th>3</th>\n",
       "      <td>possui graduacao em fisica pela universidade de sao paulo  mestrado em sensoriamento remoto pelo instituto nacional de pesquisas espaciais  e doutorado em computacao aplicada pelo instituto nacional de pesquisas espaciais  tem experiencia na area de computacao com enfase em otimizacao combinatoria atuando principalmente nos seguintes temas problemas de localizacao problema das pmedianas capacitado problema de roteamento de veiculos tendo interesse tambem por programacao orientada a objetos e algoritmos atualmente professor categoria iiid e coordenador do curso de tecnologia em analise e desenvolvimento de sistema da fatec de sao jose dos campos fisica  sensoriamento remoto simulacao do coeficiente de retroespalhamento de radar na banda c para solos nus tipicos do estado de sao paulo geosciences retroespalhamento radar computacao aplicada heuristica de localizacaoalocacao para problemas de localizacao de facilidades computer science</td>\n",
       "      <td>0</td>\n",
       "    </tr>\n",
       "    <tr>\n",
       "      <th>4</th>\n",
       "      <td>possui graduacao em ciencia da computacao pelo centro universitario do triangulo  mestrado e doutorado em computacao aplicada pelo inpe  instituto nacional de pesquisas espaciais  atuou em projetos de armazenamento e disseminacao de dados ambientais no inpe atualmente e professor da etep faculdades centro universitario eniac faculdade inpg de sao jose dos campos e fatec de jacarei e sao jose dos campos possui experiencia na area de ciencia da computacao com enfase em banco de dados e desenvolvimento de sistemas web ciencia da computacao  computacao aplicada esqueletos isotropicos computer science morfologia matematica computacao aplicada expansao por dilatacao e por erosao visando a extracao de esqueletos e contornos em imagens digitais computer science</td>\n",
       "      <td>0</td>\n",
       "    </tr>\n",
       "  </tbody>\n",
       "</table>\n",
       "</div>"
      ],
      "text/plain": [
       "                                                                                                                                                                                                                                                                                                                                                                                                                                                                                                                                                                                                                                                                                                                                                                                                                                                                                                                                                                                                                                                                                                                                                                                                                                                                                                                                                                                                                                                                Descricao  \\\n",
       "0  possui graduacao em ciencias sociais pela universidade do vale do paraiba  possui especializacao em gestao estrategica da inovacao tecnologica pela unicamp atualmente e professor de inovacao e empreendedorismo da fatec sao jose dos campos tem experiencia na area de gestao de projetos de inovacao atuando principalmente nos seguintes temas inovacao tecnologica gestao de projetos parques tecnologicos incubadoras modelagem de negocios e captacao de recursos publicos e privados ciencias sociais                                                                                                                                                                                                                                                                                                                                                                                                                                                                                                                                                                                                                                                                                                                                                                                                                                                                                                                                                           \n",
       "1  possui graduacao em direito pela faculdade de direito de taubate  graduacao em letras pela faculdade de filosofia ciencias e letras de taubate  graduacao em pedagogia pela faculdade de educacao de guaratingueta  mestrado em direito pela pontificia universidade catolica de sao paulo  e doutorado em direito pela pontificia universidade catolica de sao paulo  atualmente e professora de direito e comunicacao e expressao da faculdade de tecnologia de sao jose dos campos direito  letras  pedagogia  direito  law direito  law                                                                                                                                                                                                                                                                                                                                                                                                                                                                                                                                                                                                                                                                                                                                                                                                                                                                                                                              \n",
       "2  mestre em engenharia eletronica e computacao  instituo tecnologico de aeronautica engenheiro de infraestrutura aeronautica  instituto tecnologico de aeronautica professor da faculdade de tecnologia de sao jose dos campos das disciplinas arquitetura e organizacao de computadores fundamentos de redes de computadores tecnologia e ambiente e meio ambiente e saude professor da disciplina ciencias ambientais e das aguas da faculdade de tecnologia de jacarei socio diretor das empresas micro assist infomatica ltda e actie ltda com sede em sao jose dos campos experiencia na area de informatica redes de computadores microcomputadores cabeamento estruturado de redes fibras oticas etc engenharia civil engenharia mecanica transmissao e conservacao de energia educacao em energia e meio ambiente ex diretor da fatec guaratingueta ex diretor da fatec sao jose dos campos e ex coordenador dos cursos de estruturas leves automacao aeronautica e projetos de estruturas aeronauticas da fatec sao jose dos campos engenharia de infreestrutura aeronautica estudo comparativo tecnico e economico entre metodos de dimensionamento de pavimentos aeroportuarios formacao de oficiais aviadores  engenharia eletronica e computacao um sistema computadorizado de baixo custo para treinar controladores em radar de aproximacao de precisao  sipar electric engineering controle de trafego aereo engenharia mecanica  mechanical engineering   \n",
       "3  possui graduacao em fisica pela universidade de sao paulo  mestrado em sensoriamento remoto pelo instituto nacional de pesquisas espaciais  e doutorado em computacao aplicada pelo instituto nacional de pesquisas espaciais  tem experiencia na area de computacao com enfase em otimizacao combinatoria atuando principalmente nos seguintes temas problemas de localizacao problema das pmedianas capacitado problema de roteamento de veiculos tendo interesse tambem por programacao orientada a objetos e algoritmos atualmente professor categoria iiid e coordenador do curso de tecnologia em analise e desenvolvimento de sistema da fatec de sao jose dos campos fisica  sensoriamento remoto simulacao do coeficiente de retroespalhamento de radar na banda c para solos nus tipicos do estado de sao paulo geosciences retroespalhamento radar computacao aplicada heuristica de localizacaoalocacao para problemas de localizacao de facilidades computer science                                                                                                                                                                                                                                                                                                                                                                                                                                                                                        \n",
       "4  possui graduacao em ciencia da computacao pelo centro universitario do triangulo  mestrado e doutorado em computacao aplicada pelo inpe  instituto nacional de pesquisas espaciais  atuou em projetos de armazenamento e disseminacao de dados ambientais no inpe atualmente e professor da etep faculdades centro universitario eniac faculdade inpg de sao jose dos campos e fatec de jacarei e sao jose dos campos possui experiencia na area de ciencia da computacao com enfase em banco de dados e desenvolvimento de sistemas web ciencia da computacao  computacao aplicada esqueletos isotropicos computer science morfologia matematica computacao aplicada expansao por dilatacao e por erosao visando a extracao de esqueletos e contornos em imagens digitais computer science                                                                                                                                                                                                                                                                                                                                                                                                                                                                                                                                                                                                                                                                              \n",
       "\n",
       "  Class  \n",
       "0  0     \n",
       "1  0     \n",
       "2  0     \n",
       "3  0     \n",
       "4  0     "
      ]
     },
     "execution_count": 89,
     "metadata": {},
     "output_type": "execute_result"
    }
   ],
   "source": [
    "df_total.head()"
   ]
  },
  {
   "cell_type": "markdown",
   "metadata": {},
   "source": [
    "## 4. Persistência dos Dados <a class=\"anchor\" id=\"5th-bullet\"></a>"
   ]
  },
  {
   "cell_type": "code",
   "execution_count": 90,
   "metadata": {},
   "outputs": [],
   "source": [
    "df_total.to_csv('dados_treino.csv',index=False,sep=';')"
   ]
  }
 ],
 "metadata": {
  "kernelspec": {
   "display_name": "Python 3",
   "language": "python",
   "name": "python3"
  },
  "language_info": {
   "codemirror_mode": {
    "name": "ipython",
    "version": 3
   },
   "file_extension": ".py",
   "mimetype": "text/x-python",
   "name": "python",
   "nbconvert_exporter": "python",
   "pygments_lexer": "ipython3",
   "version": "3.7.3"
  }
 },
 "nbformat": 4,
 "nbformat_minor": 2
}
