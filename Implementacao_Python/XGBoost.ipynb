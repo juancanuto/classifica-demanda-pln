{
 "cells": [
  {
   "cell_type": "markdown",
   "metadata": {},
   "source": [
    "# Projeto Padrões de Projeto\n",
    "\n",
    "# Treinamento da Rede\n",
    "\n",
    "Esta implementação tem como objetivo criar o treinamento da rede com curriculos os dados oriundos do lattes para classificação de demandas."
   ]
  },
  {
   "cell_type": "code",
   "execution_count": 2,
   "metadata": {},
   "outputs": [],
   "source": [
    "import pandas as pd\n",
    "import numpy as np\n",
    "import tensorflow as tf\n",
    "from matplotlib import pyplot as plt\n",
    "from sklearn.metrics import confusion_matrix\n",
    "from sklearn.metrics import accuracy_score\n",
    "from sklearn.metrics import classification_report\n",
    "from sklearn.metrics import accuracy_score, f1_score\n",
    "from xgboost import XGBClassifier\n",
    "from sklearn.utils import shuffle"
   ]
  },
  {
   "cell_type": "code",
   "execution_count": 3,
   "metadata": {},
   "outputs": [],
   "source": [
    "pd.set_option('display.max_columns', 131)\n",
    "pd.set_option('float_format', '{:f}'.format)\n",
    "pd.set_option('display.max_colwidth', -1)"
   ]
  },
  {
   "cell_type": "markdown",
   "metadata": {},
   "source": [
    "## Indice:\n",
    "* [1. Carga dos Dados](#first-bullet)\n",
    "* [2. Criação das Features](#second-bullet)\n",
    "* [3. Treinamento da Rede](#4th-bullet)\n",
    "* [4. Matriz de Confusão](#5th-bullet)"
   ]
  },
  {
   "cell_type": "markdown",
   "metadata": {},
   "source": [
    "\n",
    "## 1. Carga dos dados <a class=\"anchor\" id=\"first-bullet\"></a>\n",
    "As informações utilizadas para treinamento o  serão carregadas do arquivo dados_treino.csv ,arquivo criado com base nos dados oriundos do lattes"
   ]
  },
  {
   "cell_type": "code",
   "execution_count": 4,
   "metadata": {},
   "outputs": [],
   "source": [
    "df = pd.read_csv(\"dados_treino.csv\",sep=';')"
   ]
  },
  {
   "cell_type": "code",
   "execution_count": 5,
   "metadata": {},
   "outputs": [
    {
     "data": {
      "text/html": [
       "<div>\n",
       "<style scoped>\n",
       "    .dataframe tbody tr th:only-of-type {\n",
       "        vertical-align: middle;\n",
       "    }\n",
       "\n",
       "    .dataframe tbody tr th {\n",
       "        vertical-align: top;\n",
       "    }\n",
       "\n",
       "    .dataframe thead th {\n",
       "        text-align: right;\n",
       "    }\n",
       "</style>\n",
       "<table border=\"1\" class=\"dataframe\">\n",
       "  <thead>\n",
       "    <tr style=\"text-align: right;\">\n",
       "      <th></th>\n",
       "      <th>Descricao</th>\n",
       "      <th>Class</th>\n",
       "    </tr>\n",
       "  </thead>\n",
       "  <tbody>\n",
       "    <tr>\n",
       "      <th>0</th>\n",
       "      <td>possui graduacao em ciencias sociais pela universidade do vale do paraiba  possui especializacao em gestao estrategica da inovacao tecnologica pela unicamp atualmente e professor de inovacao e empreendedorismo da fatec sao jose dos campos tem experiencia na area de gestao de projetos de inovacao atuando principalmente nos seguintes temas inovacao tecnologica gestao de projetos parques tecnologicos incubadoras modelagem de negocios e captacao de recursos publicos e privados ciencias sociais</td>\n",
       "      <td>0</td>\n",
       "    </tr>\n",
       "    <tr>\n",
       "      <th>1</th>\n",
       "      <td>possui graduacao em direito pela faculdade de direito de taubate  graduacao em letras pela faculdade de filosofia ciencias e letras de taubate  graduacao em pedagogia pela faculdade de educacao de guaratingueta  mestrado em direito pela pontificia universidade catolica de sao paulo  e doutorado em direito pela pontificia universidade catolica de sao paulo  atualmente e professora de direito e comunicacao e expressao da faculdade de tecnologia de sao jose dos campos direito  letras  pedagogia  direito  law direito  law</td>\n",
       "      <td>0</td>\n",
       "    </tr>\n",
       "    <tr>\n",
       "      <th>2</th>\n",
       "      <td>mestre em engenharia eletronica e computacao  instituo tecnologico de aeronautica engenheiro de infraestrutura aeronautica  instituto tecnologico de aeronautica professor da faculdade de tecnologia de sao jose dos campos das disciplinas arquitetura e organizacao de computadores fundamentos de redes de computadores tecnologia e ambiente e meio ambiente e saude professor da disciplina ciencias ambientais e das aguas da faculdade de tecnologia de jacarei socio diretor das empresas micro assist infomatica ltda e actie ltda com sede em sao jose dos campos experiencia na area de informatica redes de computadores microcomputadores cabeamento estruturado de redes fibras oticas etc engenharia civil engenharia mecanica transmissao e conservacao de energia educacao em energia e meio ambiente ex diretor da fatec guaratingueta ex diretor da fatec sao jose dos campos e ex coordenador dos cursos de estruturas leves automacao aeronautica e projetos de estruturas aeronauticas da fatec sao jose dos campos engenharia de infreestrutura aeronautica estudo comparativo tecnico e economico entre metodos de dimensionamento de pavimentos aeroportuarios formacao de oficiais aviadores  engenharia eletronica e computacao um sistema computadorizado de baixo custo para treinar controladores em radar de aproximacao de precisao  sipar electric engineering controle de trafego aereo engenharia mecanica  mechanical engineering</td>\n",
       "      <td>0</td>\n",
       "    </tr>\n",
       "    <tr>\n",
       "      <th>3</th>\n",
       "      <td>possui graduacao em fisica pela universidade de sao paulo  mestrado em sensoriamento remoto pelo instituto nacional de pesquisas espaciais  e doutorado em computacao aplicada pelo instituto nacional de pesquisas espaciais  tem experiencia na area de computacao com enfase em otimizacao combinatoria atuando principalmente nos seguintes temas problemas de localizacao problema das pmedianas capacitado problema de roteamento de veiculos tendo interesse tambem por programacao orientada a objetos e algoritmos atualmente professor categoria iiid e coordenador do curso de tecnologia em analise e desenvolvimento de sistema da fatec de sao jose dos campos fisica  sensoriamento remoto simulacao do coeficiente de retroespalhamento de radar na banda c para solos nus tipicos do estado de sao paulo geosciences retroespalhamento radar computacao aplicada heuristica de localizacaoalocacao para problemas de localizacao de facilidades computer science</td>\n",
       "      <td>0</td>\n",
       "    </tr>\n",
       "    <tr>\n",
       "      <th>4</th>\n",
       "      <td>possui graduacao em ciencia da computacao pelo centro universitario do triangulo  mestrado e doutorado em computacao aplicada pelo inpe  instituto nacional de pesquisas espaciais  atuou em projetos de armazenamento e disseminacao de dados ambientais no inpe atualmente e professor da etep faculdades centro universitario eniac faculdade inpg de sao jose dos campos e fatec de jacarei e sao jose dos campos possui experiencia na area de ciencia da computacao com enfase em banco de dados e desenvolvimento de sistemas web ciencia da computacao  computacao aplicada esqueletos isotropicos computer science morfologia matematica computacao aplicada expansao por dilatacao e por erosao visando a extracao de esqueletos e contornos em imagens digitais computer science</td>\n",
       "      <td>0</td>\n",
       "    </tr>\n",
       "  </tbody>\n",
       "</table>\n",
       "</div>"
      ],
      "text/plain": [
       "                                                                                                                                                                                                                                                                                                                                                                                                                                                                                                                                                                                                                                                                                                                                                                                                                                                                                                                                                                                                                                                                                                                                                                                                                                                                                                                                                                                                                                                                Descricao  \\\n",
       "0  possui graduacao em ciencias sociais pela universidade do vale do paraiba  possui especializacao em gestao estrategica da inovacao tecnologica pela unicamp atualmente e professor de inovacao e empreendedorismo da fatec sao jose dos campos tem experiencia na area de gestao de projetos de inovacao atuando principalmente nos seguintes temas inovacao tecnologica gestao de projetos parques tecnologicos incubadoras modelagem de negocios e captacao de recursos publicos e privados ciencias sociais                                                                                                                                                                                                                                                                                                                                                                                                                                                                                                                                                                                                                                                                                                                                                                                                                                                                                                                                                           \n",
       "1  possui graduacao em direito pela faculdade de direito de taubate  graduacao em letras pela faculdade de filosofia ciencias e letras de taubate  graduacao em pedagogia pela faculdade de educacao de guaratingueta  mestrado em direito pela pontificia universidade catolica de sao paulo  e doutorado em direito pela pontificia universidade catolica de sao paulo  atualmente e professora de direito e comunicacao e expressao da faculdade de tecnologia de sao jose dos campos direito  letras  pedagogia  direito  law direito  law                                                                                                                                                                                                                                                                                                                                                                                                                                                                                                                                                                                                                                                                                                                                                                                                                                                                                                                              \n",
       "2  mestre em engenharia eletronica e computacao  instituo tecnologico de aeronautica engenheiro de infraestrutura aeronautica  instituto tecnologico de aeronautica professor da faculdade de tecnologia de sao jose dos campos das disciplinas arquitetura e organizacao de computadores fundamentos de redes de computadores tecnologia e ambiente e meio ambiente e saude professor da disciplina ciencias ambientais e das aguas da faculdade de tecnologia de jacarei socio diretor das empresas micro assist infomatica ltda e actie ltda com sede em sao jose dos campos experiencia na area de informatica redes de computadores microcomputadores cabeamento estruturado de redes fibras oticas etc engenharia civil engenharia mecanica transmissao e conservacao de energia educacao em energia e meio ambiente ex diretor da fatec guaratingueta ex diretor da fatec sao jose dos campos e ex coordenador dos cursos de estruturas leves automacao aeronautica e projetos de estruturas aeronauticas da fatec sao jose dos campos engenharia de infreestrutura aeronautica estudo comparativo tecnico e economico entre metodos de dimensionamento de pavimentos aeroportuarios formacao de oficiais aviadores  engenharia eletronica e computacao um sistema computadorizado de baixo custo para treinar controladores em radar de aproximacao de precisao  sipar electric engineering controle de trafego aereo engenharia mecanica  mechanical engineering   \n",
       "3  possui graduacao em fisica pela universidade de sao paulo  mestrado em sensoriamento remoto pelo instituto nacional de pesquisas espaciais  e doutorado em computacao aplicada pelo instituto nacional de pesquisas espaciais  tem experiencia na area de computacao com enfase em otimizacao combinatoria atuando principalmente nos seguintes temas problemas de localizacao problema das pmedianas capacitado problema de roteamento de veiculos tendo interesse tambem por programacao orientada a objetos e algoritmos atualmente professor categoria iiid e coordenador do curso de tecnologia em analise e desenvolvimento de sistema da fatec de sao jose dos campos fisica  sensoriamento remoto simulacao do coeficiente de retroespalhamento de radar na banda c para solos nus tipicos do estado de sao paulo geosciences retroespalhamento radar computacao aplicada heuristica de localizacaoalocacao para problemas de localizacao de facilidades computer science                                                                                                                                                                                                                                                                                                                                                                                                                                                                                        \n",
       "4  possui graduacao em ciencia da computacao pelo centro universitario do triangulo  mestrado e doutorado em computacao aplicada pelo inpe  instituto nacional de pesquisas espaciais  atuou em projetos de armazenamento e disseminacao de dados ambientais no inpe atualmente e professor da etep faculdades centro universitario eniac faculdade inpg de sao jose dos campos e fatec de jacarei e sao jose dos campos possui experiencia na area de ciencia da computacao com enfase em banco de dados e desenvolvimento de sistemas web ciencia da computacao  computacao aplicada esqueletos isotropicos computer science morfologia matematica computacao aplicada expansao por dilatacao e por erosao visando a extracao de esqueletos e contornos em imagens digitais computer science                                                                                                                                                                                                                                                                                                                                                                                                                                                                                                                                                                                                                                                                              \n",
       "\n",
       "   Class  \n",
       "0  0      \n",
       "1  0      \n",
       "2  0      \n",
       "3  0      \n",
       "4  0      "
      ]
     },
     "execution_count": 5,
     "metadata": {},
     "output_type": "execute_result"
    }
   ],
   "source": [
    "df.head()"
   ]
  },
  {
   "cell_type": "markdown",
   "metadata": {},
   "source": [
    "## 2. Criação das Features <a class=\"anchor\" id=\"second-bullet\"></a>"
   ]
  },
  {
   "cell_type": "code",
   "execution_count": 6,
   "metadata": {},
   "outputs": [],
   "source": [
    "count_words = df.Descricao.str.split(expand=True).stack().value_counts().index.tolist()"
   ]
  },
  {
   "cell_type": "code",
   "execution_count": 7,
   "metadata": {},
   "outputs": [
    {
     "data": {
      "text/plain": [
       "2144"
      ]
     },
     "execution_count": 7,
     "metadata": {},
     "output_type": "execute_result"
    }
   ],
   "source": [
    "len(count_words)"
   ]
  },
  {
   "cell_type": "code",
   "execution_count": 8,
   "metadata": {},
   "outputs": [],
   "source": [
    "colunas = count_words\n",
    "df = df[['Descricao','Class']]\n",
    "\n",
    "# Criando as colunas no dataframe.\n",
    "for col in colunas:\n",
    "    df[col] = 0"
   ]
  },
  {
   "cell_type": "code",
   "execution_count": 9,
   "metadata": {},
   "outputs": [],
   "source": [
    "for x in colunas:\n",
    "    df[x] = df['Descricao'].str.count(x)"
   ]
  },
  {
   "cell_type": "code",
   "execution_count": 10,
   "metadata": {},
   "outputs": [],
   "source": [
    "df1 = df[df['Class'] == 0]\n",
    "df2 = df[df['Class'] == 1]\n",
    "df3 = df[df['Class'] == 2]"
   ]
  },
  {
   "cell_type": "code",
   "execution_count": 11,
   "metadata": {},
   "outputs": [],
   "source": [
    "a, b, c = np.split(df1, [int(.2*len(df1)), int(.5*len(df1))])\n",
    "d, e, f = np.split(df2, [int(.2*len(df2)), int(.5*len(df2))])\n",
    "g, h, i = np.split(df3, [int(.2*len(df3)), int(.5*len(df3))])"
   ]
  },
  {
   "cell_type": "code",
   "execution_count": 12,
   "metadata": {},
   "outputs": [],
   "source": [
    "frames_treino = [c,f,i]\n",
    "frames_validacao = [a,d,g]\n",
    "frames_teste = [b,e,h]"
   ]
  },
  {
   "cell_type": "code",
   "execution_count": 13,
   "metadata": {},
   "outputs": [],
   "source": [
    "df = pd.concat(frames_treino)\n",
    "df2 = pd.concat(frames_teste)\n",
    "df3 = pd.concat(frames_validacao)"
   ]
  },
  {
   "cell_type": "code",
   "execution_count": 14,
   "metadata": {},
   "outputs": [],
   "source": [
    "df = shuffle(df)\n",
    "df2 = shuffle(df2)\n",
    "df3 = shuffle(df3)"
   ]
  },
  {
   "cell_type": "code",
   "execution_count": 15,
   "metadata": {},
   "outputs": [],
   "source": [
    "x_train = df.copy()\n",
    "y_train = df['Class']\n",
    "del x_train['Descricao']\n",
    "del x_train['Class']\n",
    "\n",
    "x_test = df2.copy()\n",
    "y_test = df2['Class']\n",
    "del x_test['Class']\n",
    "del x_test['Descricao']\n",
    "\n",
    "x_val = df3.copy()\n",
    "y_val = df3['Class']\n",
    "del x_val['Class']\n",
    "del x_val['Descricao']"
   ]
  },
  {
   "cell_type": "code",
   "execution_count": 16,
   "metadata": {},
   "outputs": [],
   "source": [
    "def gerawords(desc):\n",
    "    return desc.lower().split()"
   ]
  },
  {
   "cell_type": "code",
   "execution_count": 17,
   "metadata": {},
   "outputs": [],
   "source": [
    "codtotal={}\n",
    "wordtotal={}\n",
    "\n",
    "for d in df['Descricao']:\n",
    "    for w in gerawords(d):\n",
    "        if w not in wordtotal:\n",
    "            wordtotal[w] = len(wordtotal)\n",
    "for d in df['Class']:    \n",
    "    if d not in codtotal:\n",
    "        codtotal[d] = len(codtotal)"
   ]
  },
  {
   "cell_type": "code",
   "execution_count": 18,
   "metadata": {},
   "outputs": [],
   "source": [
    "df3.to_csv(\"dados_teste.csv\",sep=',',index=False)"
   ]
  },
  {
   "cell_type": "code",
   "execution_count": 19,
   "metadata": {},
   "outputs": [
    {
     "name": "stdout",
     "output_type": "stream",
     "text": [
      "(52, 2144)\n",
      "(32, 2144)\n"
     ]
    }
   ],
   "source": [
    "\n",
    "print(x_train.shape)\n",
    "print(x_test.shape)"
   ]
  },
  {
   "cell_type": "code",
   "execution_count": 20,
   "metadata": {},
   "outputs": [],
   "source": [
    "dfx_train = x_train\n",
    "dfy_train = y_train\n",
    "dfx_val = x_val\n",
    "dfy_val = y_val\n",
    "dfx_test = x_test\n",
    "dfy_test = y_test\n",
    "x_train = x_train[count_words]\n",
    "x_val = x_val[count_words]\n",
    "x_test = x_test[count_words]\n",
    "x_train = np.array(x_train)\n",
    "x_val = np.array(x_val)\n",
    "x_test = np.array(x_test)\n",
    "y_train = np.array(y_train)\n",
    "y_val = np.array(y_val)\n",
    "y_test = np.array(y_test)"
   ]
  },
  {
   "cell_type": "code",
   "execution_count": 21,
   "metadata": {},
   "outputs": [],
   "source": [
    "X = x_train\n",
    "Y = [row for row in y_train]\n",
    "X_val = x_val\n",
    "Y_val = [row for row in y_val]\n",
    "X_test = x_test\n",
    "Y_test = [row for row in y_test]"
   ]
  },
  {
   "cell_type": "code",
   "execution_count": 22,
   "metadata": {},
   "outputs": [
    {
     "data": {
      "text/plain": [
       "Counter({1: 10, 0: 9, 2: 13})"
      ]
     },
     "execution_count": 22,
     "metadata": {},
     "output_type": "execute_result"
    }
   ],
   "source": [
    "import collections\n",
    "c = collections.Counter(Y_test)\n",
    "c"
   ]
  },
  {
   "cell_type": "markdown",
   "metadata": {},
   "source": [
    "## 3. Treinamento da Rede <a class=\"anchor\" id=\"4th-bullet\"></a>"
   ]
  },
  {
   "cell_type": "code",
   "execution_count": 23,
   "metadata": {},
   "outputs": [
    {
     "name": "stdout",
     "output_type": "stream",
     "text": [
      "[0]\tvalidation_0-merror:0.578947\n",
      "Will train until validation_0-merror hasn't improved in 100 rounds.\n",
      "[1]\tvalidation_0-merror:0.578947\n",
      "[2]\tvalidation_0-merror:0.578947\n",
      "[3]\tvalidation_0-merror:0.578947\n",
      "[4]\tvalidation_0-merror:0.578947\n",
      "[5]\tvalidation_0-merror:0.578947\n",
      "[6]\tvalidation_0-merror:0.578947\n",
      "[7]\tvalidation_0-merror:0.578947\n",
      "[8]\tvalidation_0-merror:0.578947\n",
      "[9]\tvalidation_0-merror:0.578947\n",
      "[10]\tvalidation_0-merror:0.578947\n",
      "[11]\tvalidation_0-merror:0.578947\n",
      "[12]\tvalidation_0-merror:0.578947\n",
      "[13]\tvalidation_0-merror:0.578947\n",
      "[14]\tvalidation_0-merror:0.578947\n",
      "[15]\tvalidation_0-merror:0.578947\n",
      "[16]\tvalidation_0-merror:0.578947\n",
      "[17]\tvalidation_0-merror:0.578947\n",
      "[18]\tvalidation_0-merror:0.578947\n",
      "[19]\tvalidation_0-merror:0.578947\n",
      "[20]\tvalidation_0-merror:0.578947\n",
      "[21]\tvalidation_0-merror:0.578947\n",
      "[22]\tvalidation_0-merror:0.578947\n",
      "[23]\tvalidation_0-merror:0.578947\n",
      "[24]\tvalidation_0-merror:0.578947\n",
      "[25]\tvalidation_0-merror:0.578947\n",
      "[26]\tvalidation_0-merror:0.578947\n",
      "[27]\tvalidation_0-merror:0.578947\n",
      "[28]\tvalidation_0-merror:0.578947\n",
      "[29]\tvalidation_0-merror:0.578947\n",
      "[30]\tvalidation_0-merror:0.578947\n",
      "[31]\tvalidation_0-merror:0.578947\n",
      "[32]\tvalidation_0-merror:0.578947\n",
      "[33]\tvalidation_0-merror:0.578947\n",
      "[34]\tvalidation_0-merror:0.578947\n",
      "[35]\tvalidation_0-merror:0.578947\n",
      "[36]\tvalidation_0-merror:0.578947\n",
      "[37]\tvalidation_0-merror:0.578947\n",
      "[38]\tvalidation_0-merror:0.578947\n",
      "[39]\tvalidation_0-merror:0.578947\n",
      "[40]\tvalidation_0-merror:0.578947\n",
      "[41]\tvalidation_0-merror:0.578947\n",
      "[42]\tvalidation_0-merror:0.578947\n",
      "[43]\tvalidation_0-merror:0.578947\n",
      "[44]\tvalidation_0-merror:0.578947\n",
      "[45]\tvalidation_0-merror:0.578947\n",
      "[46]\tvalidation_0-merror:0.578947\n",
      "[47]\tvalidation_0-merror:0.578947\n",
      "[48]\tvalidation_0-merror:0.578947\n",
      "[49]\tvalidation_0-merror:0.578947\n",
      "[50]\tvalidation_0-merror:0.578947\n",
      "[51]\tvalidation_0-merror:0.578947\n",
      "[52]\tvalidation_0-merror:0.578947\n",
      "[53]\tvalidation_0-merror:0.578947\n",
      "[54]\tvalidation_0-merror:0.578947\n",
      "[55]\tvalidation_0-merror:0.578947\n",
      "[56]\tvalidation_0-merror:0.578947\n",
      "[57]\tvalidation_0-merror:0.578947\n",
      "[58]\tvalidation_0-merror:0.578947\n",
      "[59]\tvalidation_0-merror:0.578947\n",
      "[60]\tvalidation_0-merror:0.578947\n",
      "[61]\tvalidation_0-merror:0.578947\n",
      "[62]\tvalidation_0-merror:0.578947\n",
      "[63]\tvalidation_0-merror:0.578947\n",
      "[64]\tvalidation_0-merror:0.578947\n",
      "[65]\tvalidation_0-merror:0.578947\n",
      "[66]\tvalidation_0-merror:0.578947\n",
      "[67]\tvalidation_0-merror:0.578947\n",
      "[68]\tvalidation_0-merror:0.578947\n",
      "[69]\tvalidation_0-merror:0.578947\n",
      "[70]\tvalidation_0-merror:0.578947\n",
      "[71]\tvalidation_0-merror:0.578947\n",
      "[72]\tvalidation_0-merror:0.578947\n",
      "[73]\tvalidation_0-merror:0.578947\n",
      "[74]\tvalidation_0-merror:0.578947\n",
      "[75]\tvalidation_0-merror:0.578947\n",
      "[76]\tvalidation_0-merror:0.578947\n",
      "[77]\tvalidation_0-merror:0.578947\n",
      "[78]\tvalidation_0-merror:0.578947\n",
      "[79]\tvalidation_0-merror:0.578947\n",
      "[80]\tvalidation_0-merror:0.578947\n",
      "[81]\tvalidation_0-merror:0.578947\n",
      "[82]\tvalidation_0-merror:0.578947\n",
      "[83]\tvalidation_0-merror:0.578947\n",
      "[84]\tvalidation_0-merror:0.578947\n",
      "[85]\tvalidation_0-merror:0.578947\n",
      "[86]\tvalidation_0-merror:0.578947\n",
      "[87]\tvalidation_0-merror:0.578947\n",
      "[88]\tvalidation_0-merror:0.578947\n",
      "[89]\tvalidation_0-merror:0.578947\n",
      "[90]\tvalidation_0-merror:0.578947\n",
      "[91]\tvalidation_0-merror:0.578947\n",
      "[92]\tvalidation_0-merror:0.578947\n",
      "[93]\tvalidation_0-merror:0.578947\n",
      "[94]\tvalidation_0-merror:0.578947\n",
      "[95]\tvalidation_0-merror:0.578947\n",
      "[96]\tvalidation_0-merror:0.578947\n",
      "[97]\tvalidation_0-merror:0.578947\n",
      "[98]\tvalidation_0-merror:0.578947\n",
      "[99]\tvalidation_0-merror:0.578947\n"
     ]
    },
    {
     "data": {
      "text/plain": [
       "XGBClassifier(base_score=0.5, booster='gbtree', colsample_bylevel=1,\n",
       "              colsample_bynode=1, colsample_bytree=0.95, gamma=20,\n",
       "              learning_rate=0.019, max_delta_step=0, max_depth=5,\n",
       "              min_child_weight=1, missing=None, n_estimators=100, n_jobs=1,\n",
       "              nthread=4, num_class=3, objective='multi:softprob',\n",
       "              random_state=0, reg_alpha=0, reg_lambda=1, scale_pos_weight=1,\n",
       "              seed=27, silent=None, subsample=0.6, verbosity=1)"
      ]
     },
     "execution_count": 23,
     "metadata": {},
     "output_type": "execute_result"
    }
   ],
   "source": [
    "# XGBoost CV model\n",
    "model = XGBClassifier(learning_rate =0.019, \n",
    "                                                  n_estimators=100, \n",
    "                                                  max_depth=5, \n",
    "                                                  min_child_weight=1, \n",
    "                                                  gamma=20, \n",
    "                                                  subsample=0.6, \n",
    "                                                  colsample_bytree=0.95, \n",
    "                                                  objective= 'multi:softprob',num_class=3, nthread=4, scale_pos_weight=1, seed=27)\n",
    "model.fit(X, Y, eval_metric='merror', eval_set=[(X_val, Y_val)], verbose=True,early_stopping_rounds=100)\n"
   ]
  },
  {
   "cell_type": "code",
   "execution_count": 27,
   "metadata": {},
   "outputs": [
    {
     "data": {
      "text/plain": [
       "[0.33290163,\n",
       " 0.33290163,\n",
       " 0.33290163,\n",
       " 0.33290163,\n",
       " 0.33290163,\n",
       " 0.33290163,\n",
       " 0.33290163,\n",
       " 0.33290163,\n",
       " 0.33290163,\n",
       " 0.33290163,\n",
       " 0.33290163,\n",
       " 0.33290163,\n",
       " 0.33290163,\n",
       " 0.33290163,\n",
       " 0.33290163,\n",
       " 0.33290163,\n",
       " 0.33290163,\n",
       " 0.33290163,\n",
       " 0.33290163,\n",
       " 0.33290163,\n",
       " 0.33290163,\n",
       " 0.33290163,\n",
       " 0.33290163,\n",
       " 0.33290163,\n",
       " 0.33290163,\n",
       " 0.33290163,\n",
       " 0.33290163,\n",
       " 0.33290163,\n",
       " 0.33290163,\n",
       " 0.33290163,\n",
       " 0.33290163,\n",
       " 0.33290163]"
      ]
     },
     "execution_count": 27,
     "metadata": {},
     "output_type": "execute_result"
    }
   ],
   "source": [
    "y_pred"
   ]
  },
  {
   "cell_type": "code",
   "execution_count": 29,
   "metadata": {},
   "outputs": [
    {
     "data": {
      "text/plain": [
       "[0.33290163,\n",
       " 0.33290163,\n",
       " 0.33290163,\n",
       " 0.33290163,\n",
       " 0.33290163,\n",
       " 0.33290163,\n",
       " 0.33290163,\n",
       " 0.33290163,\n",
       " 0.33290163,\n",
       " 0.33290163,\n",
       " 0.33290163,\n",
       " 0.33290163,\n",
       " 0.33290163,\n",
       " 0.33290163,\n",
       " 0.33290163,\n",
       " 0.33290163,\n",
       " 0.33290163,\n",
       " 0.33290163,\n",
       " 0.33290163,\n",
       " 0.33290163,\n",
       " 0.33290163,\n",
       " 0.33290163,\n",
       " 0.33290163,\n",
       " 0.33290163,\n",
       " 0.33290163,\n",
       " 0.33290163,\n",
       " 0.33290163,\n",
       " 0.33290163,\n",
       " 0.33290163,\n",
       " 0.33290163,\n",
       " 0.33290163,\n",
       " 0.33290163]"
      ]
     },
     "execution_count": 29,
     "metadata": {},
     "output_type": "execute_result"
    }
   ],
   "source": [
    "predictions"
   ]
  },
  {
   "cell_type": "code",
   "execution_count": 30,
   "metadata": {},
   "outputs": [
    {
     "name": "stdout",
     "output_type": "stream",
     "text": [
      "Accuracy: 28.12%\n"
     ]
    }
   ],
   "source": [
    "y_pred = model.predict_proba(x_test)\n",
    "y_pred = [row[0] for row in y_pred]\n",
    "y_pred = [1*(t>0.5) for t in y_pred]    ###################Consertar\n",
    "predictions = [value for value in y_pred]\n",
    "accuracy = accuracy_score(y_test, predictions)\n",
    "print(\"Accuracy: %.2f%%\" % (accuracy * 100.0))"
   ]
  },
  {
   "cell_type": "markdown",
   "metadata": {},
   "source": [
    "## 4. Matriz de Confusão <a class=\"anchor\" id=\"5th-bullet\"></a>"
   ]
  },
  {
   "cell_type": "code",
   "execution_count": 31,
   "metadata": {},
   "outputs": [],
   "source": [
    "def plot_confusion_matrix(cm, classes,\n",
    "                          normalize=False,\n",
    "                          title='Confusion matrix',\n",
    "                          cmap=plt.cm.Blues):\n",
    "    import itertools\n",
    "    if normalize:\n",
    "        cm = cm.astype('float') / cm.sum(axis=1)[:, np.newaxis]\n",
    "        print(\"Normalized confusion matrix\")\n",
    "    else:\n",
    "        print('Confusion matrix, without normalization')\n",
    "\n",
    "    print(cm)\n",
    "\n",
    "    plt.imshow(cm, interpolation='nearest', cmap=cmap)\n",
    "    plt.title(title)\n",
    "    plt.colorbar()\n",
    "    tick_marks = np.arange(len(classes))\n",
    "    plt.xticks(tick_marks, classes, rotation=45)\n",
    "    plt.yticks(tick_marks, classes)\n",
    "\n",
    "    fmt = '.2f' if normalize else 'd'\n",
    "    thresh = cm.max() / 2.\n",
    "    for i, j in itertools.product(range(cm.shape[0]), range(cm.shape[1])):\n",
    "        plt.text(j, i, format(cm[i, j], fmt),\n",
    "                 horizontalalignment=\"center\",\n",
    "                 color=\"white\" if cm[i, j] > thresh else \"black\")\n",
    "\n",
    "    plt.ylabel('True label')\n",
    "    plt.xlabel('Predicted label')\n",
    "    plt.tight_layout()"
   ]
  },
  {
   "cell_type": "code",
   "execution_count": 32,
   "metadata": {},
   "outputs": [
    {
     "name": "stdout",
     "output_type": "stream",
     "text": [
      "Confusion matrix, without normalization\n",
      "[[ 9 10 13]\n",
      " [ 0  0  0]\n",
      " [ 0  0  0]]\n"
     ]
    },
    {
     "data": {
      "image/png": "[encoded data removed]",
      "text/plain": [
       "<Figure size 432x288 with 2 Axes>"
      ]
     },
     "metadata": {
      "needs_background": "light"
     },
     "output_type": "display_data"
    }
   ],
   "source": [
    "cnf_matrix = confusion_matrix(predictions, y_test, labels=[0, 1, 2])\n",
    "np.set_printoptions(precision=2)\n",
    "\n",
    "plt.figure()\n",
    "plot_confusion_matrix(cnf_matrix, classes=[0, 1, 2],\n",
    "                      title='Matriz de Confusão')"
   ]
  },
  {
   "cell_type": "code",
   "execution_count": 33,
   "metadata": {},
   "outputs": [
    {
     "name": "stdout",
     "output_type": "stream",
     "text": [
      "Accuracy: 28.12%\n"
     ]
    }
   ],
   "source": [
    "print(\"Accuracy: %.2f%%\" % (accuracy * 100.0))"
   ]
  },
  {
   "cell_type": "markdown",
   "metadata": {},
   "source": [
    "## Salva o Modelo"
   ]
  },
  {
   "cell_type": "code",
   "execution_count": 27,
   "metadata": {},
   "outputs": [],
   "source": [
    "import pickle\n",
    "pickle.dump(model, open(\"modelo.bin\", \"wb\"))"
   ]
  },
  {
   "cell_type": "code",
   "execution_count": 28,
   "metadata": {},
   "outputs": [],
   "source": [
    "loaded_model = pickle.load(open(\"modelo.bin\", \"rb\"))"
   ]
  },
  {
   "cell_type": "code",
   "execution_count": 29,
   "metadata": {},
   "outputs": [
    {
     "data": {
      "text/plain": [
       "<matplotlib.axes._subplots.AxesSubplot at 0x1e2f5730be0>"
      ]
     },
     "execution_count": 29,
     "metadata": {},
     "output_type": "execute_result"
    },
    {
     "data": {
      "image/png": "[encoded data removed]",
      "text/plain": [
       "<Figure size 432x288 with 1 Axes>"
      ]
     },
     "metadata": {
      "needs_background": "light"
     },
     "output_type": "display_data"
    }
   ],
   "source": [
    "from xgboost import plot_tree\n",
    "plot_tree(model)"
   ]
  },
  {
   "cell_type": "code",
   "execution_count": null,
   "metadata": {},
   "outputs": [],
   "source": []
  }
 ],
 "metadata": {
  "kernelspec": {
   "display_name": "Python 3",
   "language": "python",
   "name": "python3"
  },
  "language_info": {
   "codemirror_mode": {
    "name": "ipython",
    "version": 3
   },
   "file_extension": ".py",
   "mimetype": "text/x-python",
   "name": "python",
   "nbconvert_exporter": "python",
   "pygments_lexer": "ipython3",
   "version": "3.7.3"
  }
 },
 "nbformat": 4,
 "nbformat_minor": 2
}
